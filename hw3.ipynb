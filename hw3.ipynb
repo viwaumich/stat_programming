{
  "cells": [
    {
      "cell_type": "markdown",
      "metadata": {
        "id": "view-in-github",
        "colab_type": "text"
      },
      "source": [
        "<a href=\"https://colab.research.google.com/github/viwaumich/stat_programming/blob/main/hw3.ipynb\" target=\"_parent\"><img src=\"https://colab.research.google.com/assets/colab-badge.svg\" alt=\"Open In Colab\"/></a>"
      ]
    },
    {
      "cell_type": "code",
      "execution_count": null,
      "metadata": {
        "deletable": false,
        "editable": false,
        "id": "4leO5bvzr3ya",
        "nbgrader": {
          "grade": false,
          "grade_id": "cell-1be04a157d86c84b",
          "locked": true,
          "schema_version": 3,
          "solution": false
        },
        "vscode": {
          "languageId": "r"
        },
        "colab": {
          "base_uri": "https://localhost:8080/"
        },
        "outputId": "62b35741-4cba-48b3-8cb5-f96af72a421c"
      },
      "outputs": [
        {
          "output_type": "stream",
          "name": "stderr",
          "text": [
            "Installing package into ‘/usr/local/lib/R/site-library’\n",
            "(as ‘lib’ is unspecified)\n",
            "\n"
          ]
        }
      ],
      "source": [
        "install.packages(\"tidyverse\")\n",
        "library(tidyverse)"
      ]
    },
    {
      "cell_type": "code",
      "source": [
        "install.packages(\"nycflights13\")\n",
        "library(nycflights13)\n",
        "options(repr.plot.width=5, repr.plot.height=4)"
      ],
      "metadata": {
        "colab": {
          "base_uri": "https://localhost:8080/"
        },
        "id": "PxR19o3Aj_co",
        "outputId": "2f9f257f-40ab-44b2-9542-652753bd2bda"
      },
      "execution_count": null,
      "outputs": [
        {
          "output_type": "stream",
          "name": "stderr",
          "text": [
            "Installing package into ‘/usr/local/lib/R/site-library’\n",
            "(as ‘lib’ is unspecified)\n",
            "\n"
          ]
        }
      ]
    },
    {
      "cell_type": "markdown",
      "metadata": {
        "deletable": false,
        "editable": false,
        "id": "8qK_sLRrr3yc",
        "nbgrader": {
          "grade": false,
          "grade_id": "cell-281caadd66986182",
          "locked": true,
          "schema_version": 3,
          "solution": false
        },
        "run_control": {
          "frozen": true
        }
      },
      "source": [
        "# STATS 306\n",
        "## Homework 3:  Advanced `dplyr` and tidy data\n",
        "\n",
        "For each problem, enter the R code in the cell marked \"YOUR SOLUTION HERE\"."
      ]
    },
    {
      "cell_type": "markdown",
      "metadata": {
        "deletable": false,
        "editable": false,
        "id": "631zEA_mr3yd",
        "nbgrader": {
          "grade": false,
          "grade_id": "cell-421557d86106e43b",
          "locked": true,
          "schema_version": 3,
          "solution": false
        },
        "run_control": {
          "frozen": true
        }
      },
      "source": [
        "## Problem 1: Why so delayed? (4 points)\n",
        "The following code adds a variable `week` to `flights`, such that `week==1` for the first seven days of the year, `week==2` for days 8-14, etc. (In the second half of the semester we will learn how to work with times and date data using the `lubridate` package.)"
      ]
    },
    {
      "cell_type": "code",
      "execution_count": null,
      "metadata": {
        "id": "1ioDkDK7r3yd",
        "nbgrader": {
          "grade": false,
          "grade_id": "cell-88e1b70275693fee",
          "locked": true,
          "schema_version": 3,
          "solution": false
        },
        "vscode": {
          "languageId": "r"
        }
      },
      "outputs": [],
      "source": [
        "flights_week = mutate(flights, week=lubridate::week(time_hour))"
      ]
    },
    {
      "cell_type": "markdown",
      "metadata": {
        "deletable": false,
        "editable": false,
        "id": "EepM7rgjr3yd",
        "run_control": {
          "frozen": true
        }
      },
      "source": [
        "**(a)** Make a bar plot of the proportion of flights each week whose actual departure time is NOT missing. The x-axis of your plot should contain the weeks of the year, ranging from 1 to 52, and the y-axis of your plot should be a number between 0 and 1 showing the decimal proportion of flights that have a departure time. What sort of plot geometry (line, bar, point, histogram, etc.) do you think is appropriate for this kind of plot? Does anything about this plot jump out at you? What and why? *1 point*"
      ]
    },
    {
      "cell_type": "code",
      "execution_count": null,
      "metadata": {
        "id": "kaVdMK0Zr3yd",
        "vscode": {
          "languageId": "r"
        }
      },
      "outputs": [],
      "source": [
        "# Your solution here\n",
        "flights_week_a <- mutate(flights_week, bool_val = as.integer(!is.na(dep_time)))\n",
        "flights_week_a <- select(flights_week_a, flight, week, dep_time, bool_val)\n",
        "flights_week_a <- group_by(flights_week_a, week)"
      ]
    },
    {
      "cell_type": "code",
      "source": [
        "flights_week_a <- group_by(flights_week_a, week)\n",
        "flights_week_a <- summarize(flights_week_a, percentage = mean(bool_val))\n",
        "head(flights_week_a)"
      ],
      "metadata": {
        "colab": {
          "base_uri": "https://localhost:8080/",
          "height": 286
        },
        "id": "4CuRNIm1VKCs",
        "outputId": "15aba218-f2f2-4f99-d042-cd4a0c641701"
      },
      "execution_count": null,
      "outputs": [
        {
          "output_type": "display_data",
          "data": {
            "text/html": [
              "<table class=\"dataframe\">\n",
              "<caption>A tibble: 6 × 2</caption>\n",
              "<thead>\n",
              "\t<tr><th scope=col>week</th><th scope=col>percentage</th></tr>\n",
              "\t<tr><th scope=col>&lt;dbl&gt;</th><th scope=col>&lt;dbl&gt;</th></tr>\n",
              "</thead>\n",
              "<tbody>\n",
              "\t<tr><td>1</td><td>0.9942614</td></tr>\n",
              "\t<tr><td>2</td><td>0.9923064</td></tr>\n",
              "\t<tr><td>3</td><td>0.9848787</td></tr>\n",
              "\t<tr><td>4</td><td>0.9749175</td></tr>\n",
              "\t<tr><td>5</td><td>0.9601449</td></tr>\n",
              "\t<tr><td>6</td><td>0.8374037</td></tr>\n",
              "</tbody>\n",
              "</table>\n"
            ],
            "text/markdown": "\nA tibble: 6 × 2\n\n| week &lt;dbl&gt; | percentage &lt;dbl&gt; |\n|---|---|\n| 1 | 0.9942614 |\n| 2 | 0.9923064 |\n| 3 | 0.9848787 |\n| 4 | 0.9749175 |\n| 5 | 0.9601449 |\n| 6 | 0.8374037 |\n\n",
            "text/latex": "A tibble: 6 × 2\n\\begin{tabular}{ll}\n week & percentage\\\\\n <dbl> & <dbl>\\\\\n\\hline\n\t 1 & 0.9942614\\\\\n\t 2 & 0.9923064\\\\\n\t 3 & 0.9848787\\\\\n\t 4 & 0.9749175\\\\\n\t 5 & 0.9601449\\\\\n\t 6 & 0.8374037\\\\\n\\end{tabular}\n",
            "text/plain": [
              "  week percentage\n",
              "1 1    0.9942614 \n",
              "2 2    0.9923064 \n",
              "3 3    0.9848787 \n",
              "4 4    0.9749175 \n",
              "5 5    0.9601449 \n",
              "6 6    0.8374037 "
            ]
          },
          "metadata": {}
        }
      ]
    },
    {
      "cell_type": "code",
      "source": [
        "ggplot(data = flights_week_a) +\n",
        "  geom_bar(aes(week, percentage), stat = 'identity', fill = \"pink\", color = \"black\") +\n",
        "  ggtitle('Proportion of Completed Departure Time Data by Week') +\n",
        "  theme_bw()"
      ],
      "metadata": {
        "colab": {
          "base_uri": "https://localhost:8080/",
          "height": 257
        },
        "id": "ZFWuj2Q1zHqH",
        "outputId": "a234f2f8-d388-45f5-a51b-d06dd1bb13f0"
      },
      "execution_count": null,
      "outputs": [
        {
          "output_type": "display_data",
          "data": {
            "text/plain": [
              "plot without title"
            ],
            "image/png": "[encoded data removed]"
          },
          "metadata": {
            "image/png": {
              "width": 300,
              "height": 240
            }
          }
        }
      ]
    },
    {
      "cell_type": "markdown",
      "metadata": {
        "deletable": false,
        "editable": false,
        "id": "O63-jpF8r3ye",
        "run_control": {
          "frozen": true
        }
      },
      "source": [
        "**(b)** For the week with the highest fraction of missing departure times, generate a table which shows the proportion of missing departure times for each day of that week. Your table should have columns `year`, `month`, `day`, and `prop_miss_dep_time`. Sort your table in chronological order and store it in a variable called `table1b`. *1 point*"
      ]
    },
    {
      "cell_type": "code",
      "source": [
        "#highest missing dep time\n",
        "top_missing_dep_times <- head(arrange(flights_week_a, desc(1 - percentage)))"
      ],
      "metadata": {
        "id": "CNi4vazZskS9"
      },
      "execution_count": null,
      "outputs": []
    },
    {
      "cell_type": "code",
      "source": [
        "table1b <- filter(flights_week, week == 6)\n",
        "table1b <- select(table1b, flight, week, year, month, day, dep_time)\n",
        "table1b <- mutate(table1b, dep_time_missing = as.integer(is.na(dep_time)))\n",
        "table1b <- group_by(table1b, year, month, day)\n",
        "table1b <- mutate(table1b, times_missing = mean(dep_time_missing))\n",
        "table1b <- summarise(table1b, prop_miss_dep_time = mean(times_missing))\n",
        "table1b"
      ],
      "metadata": {
        "colab": {
          "base_uri": "https://localhost:8080/",
          "height": 352
        },
        "id": "kz_lLmsXtJvB",
        "outputId": "9c968d5c-f130-4804-8eeb-7c10e1c2d194"
      },
      "execution_count": null,
      "outputs": [
        {
          "output_type": "stream",
          "name": "stderr",
          "text": [
            "\u001b[1m\u001b[22m`summarise()` has grouped output by 'year', 'month'. You can override using the\n",
            "`.groups` argument.\n"
          ]
        },
        {
          "output_type": "display_data",
          "data": {
            "text/html": [
              "<table class=\"dataframe\">\n",
              "<caption>A grouped_df: 7 × 4</caption>\n",
              "<thead>\n",
              "\t<tr><th scope=col>year</th><th scope=col>month</th><th scope=col>day</th><th scope=col>prop_miss_dep_time</th></tr>\n",
              "\t<tr><th scope=col>&lt;int&gt;</th><th scope=col>&lt;int&gt;</th><th scope=col>&lt;int&gt;</th><th scope=col>&lt;dbl&gt;</th></tr>\n",
              "</thead>\n",
              "<tbody>\n",
              "\t<tr><td>2013</td><td>2</td><td> 5</td><td>0.017857143</td></tr>\n",
              "\t<tr><td>2013</td><td>2</td><td> 6</td><td>0.008879023</td></tr>\n",
              "\t<tr><td>2013</td><td>2</td><td> 7</td><td>0.004291845</td></tr>\n",
              "\t<tr><td>2013</td><td>2</td><td> 8</td><td>0.507526882</td></tr>\n",
              "\t<tr><td>2013</td><td>2</td><td> 9</td><td>0.574561404</td></tr>\n",
              "\t<tr><td>2013</td><td>2</td><td>10</td><td>0.031363088</td></tr>\n",
              "\t<tr><td>2013</td><td>2</td><td>11</td><td>0.078579117</td></tr>\n",
              "</tbody>\n",
              "</table>\n"
            ],
            "text/markdown": "\nA grouped_df: 7 × 4\n\n| year &lt;int&gt; | month &lt;int&gt; | day &lt;int&gt; | prop_miss_dep_time &lt;dbl&gt; |\n|---|---|---|---|\n| 2013 | 2 |  5 | 0.017857143 |\n| 2013 | 2 |  6 | 0.008879023 |\n| 2013 | 2 |  7 | 0.004291845 |\n| 2013 | 2 |  8 | 0.507526882 |\n| 2013 | 2 |  9 | 0.574561404 |\n| 2013 | 2 | 10 | 0.031363088 |\n| 2013 | 2 | 11 | 0.078579117 |\n\n",
            "text/latex": "A grouped\\_df: 7 × 4\n\\begin{tabular}{llll}\n year & month & day & prop\\_miss\\_dep\\_time\\\\\n <int> & <int> & <int> & <dbl>\\\\\n\\hline\n\t 2013 & 2 &  5 & 0.017857143\\\\\n\t 2013 & 2 &  6 & 0.008879023\\\\\n\t 2013 & 2 &  7 & 0.004291845\\\\\n\t 2013 & 2 &  8 & 0.507526882\\\\\n\t 2013 & 2 &  9 & 0.574561404\\\\\n\t 2013 & 2 & 10 & 0.031363088\\\\\n\t 2013 & 2 & 11 & 0.078579117\\\\\n\\end{tabular}\n",
            "text/plain": [
              "  year month day prop_miss_dep_time\n",
              "1 2013 2      5  0.017857143       \n",
              "2 2013 2      6  0.008879023       \n",
              "3 2013 2      7  0.004291845       \n",
              "4 2013 2      8  0.507526882       \n",
              "5 2013 2      9  0.574561404       \n",
              "6 2013 2     10  0.031363088       \n",
              "7 2013 2     11  0.078579117       "
            ]
          },
          "metadata": {}
        }
      ]
    },
    {
      "cell_type": "markdown",
      "metadata": {
        "deletable": false,
        "editable": false,
        "id": "9PDpOEuvr3ye",
        "run_control": {
          "frozen": true
        }
      },
      "source": [
        "**(c)** 2 days in `table1b` should jump out at you. What you're discovering from the data is the [North American Blizzard of 2013](https://en.wikipedia.org/wiki/February_2013_North_American_blizzard). Many flights were cancelled due to extreme weather conditions. Identify the proportion of cancelled flights out of LaGuardia Airport (LGA) during the days that jumped out at you for each airline carrier in descending order. *1 point*"
      ]
    },
    {
      "cell_type": "code",
      "execution_count": null,
      "metadata": {
        "id": "lZsmOBdMr3yf",
        "vscode": {
          "languageId": "r"
        },
        "colab": {
          "base_uri": "https://localhost:8080/",
          "height": 474
        },
        "outputId": "d88d83b2-900a-4ad5-d202-9f7b0efc7642"
      },
      "outputs": [
        {
          "output_type": "display_data",
          "data": {
            "text/html": [
              "<table class=\"dataframe\">\n",
              "<caption>A tibble: 12 × 2</caption>\n",
              "<thead>\n",
              "\t<tr><th scope=col>carrier</th><th scope=col>prop_cancelled</th></tr>\n",
              "\t<tr><th scope=col>&lt;chr&gt;</th><th scope=col>&lt;dbl&gt;</th></tr>\n",
              "</thead>\n",
              "<tbody>\n",
              "\t<tr><td>YV</td><td>1.0000000</td></tr>\n",
              "\t<tr><td>9E</td><td>0.6666667</td></tr>\n",
              "\t<tr><td>DL</td><td>0.6120690</td></tr>\n",
              "\t<tr><td>MQ</td><td>0.6000000</td></tr>\n",
              "\t<tr><td>UA</td><td>0.5625000</td></tr>\n",
              "\t<tr><td>US</td><td>0.5593220</td></tr>\n",
              "\t<tr><td>FL</td><td>0.5238095</td></tr>\n",
              "\t<tr><td>B6</td><td>0.5000000</td></tr>\n",
              "\t<tr><td>EV</td><td>0.5000000</td></tr>\n",
              "\t<tr><td>F9</td><td>0.5000000</td></tr>\n",
              "\t<tr><td>WN</td><td>0.4444444</td></tr>\n",
              "\t<tr><td>AA</td><td>0.4305556</td></tr>\n",
              "</tbody>\n",
              "</table>\n"
            ],
            "text/markdown": "\nA tibble: 12 × 2\n\n| carrier &lt;chr&gt; | prop_cancelled &lt;dbl&gt; |\n|---|---|\n| YV | 1.0000000 |\n| 9E | 0.6666667 |\n| DL | 0.6120690 |\n| MQ | 0.6000000 |\n| UA | 0.5625000 |\n| US | 0.5593220 |\n| FL | 0.5238095 |\n| B6 | 0.5000000 |\n| EV | 0.5000000 |\n| F9 | 0.5000000 |\n| WN | 0.4444444 |\n| AA | 0.4305556 |\n\n",
            "text/latex": "A tibble: 12 × 2\n\\begin{tabular}{ll}\n carrier & prop\\_cancelled\\\\\n <chr> & <dbl>\\\\\n\\hline\n\t YV & 1.0000000\\\\\n\t 9E & 0.6666667\\\\\n\t DL & 0.6120690\\\\\n\t MQ & 0.6000000\\\\\n\t UA & 0.5625000\\\\\n\t US & 0.5593220\\\\\n\t FL & 0.5238095\\\\\n\t B6 & 0.5000000\\\\\n\t EV & 0.5000000\\\\\n\t F9 & 0.5000000\\\\\n\t WN & 0.4444444\\\\\n\t AA & 0.4305556\\\\\n\\end{tabular}\n",
            "text/plain": [
              "   carrier prop_cancelled\n",
              "1  YV      1.0000000     \n",
              "2  9E      0.6666667     \n",
              "3  DL      0.6120690     \n",
              "4  MQ      0.6000000     \n",
              "5  UA      0.5625000     \n",
              "6  US      0.5593220     \n",
              "7  FL      0.5238095     \n",
              "8  B6      0.5000000     \n",
              "9  EV      0.5000000     \n",
              "10 F9      0.5000000     \n",
              "11 WN      0.4444444     \n",
              "12 AA      0.4305556     "
            ]
          },
          "metadata": {}
        }
      ],
      "source": [
        "# Your solution here\n",
        "north_am_blizz <- filter(flights_week, year == 2013, month == 2, day == 8 | day == 9)\n",
        "north_am_blizz <- filter(north_am_blizz, origin == 'LGA')\n",
        "north_am_blizz <- select(north_am_blizz, flight, year, month, day, dep_time, carrier, flight, origin)\n",
        "north_am_blizz <- group_by(north_am_blizz, carrier)\n",
        "north_am_blizz <- mutate(north_am_blizz, cancelled = as.integer(is.na(dep_time)))\n",
        "north_am_blizz <- summarize(north_am_blizz, prop_cancelled = mean(cancelled))\n",
        "north_am_blizz <- arrange(north_am_blizz, desc(prop_cancelled))\n",
        "north_am_blizz"
      ]
    },
    {
      "cell_type": "markdown",
      "metadata": {
        "deletable": false,
        "editable": false,
        "id": "yHugOItnr3yf",
        "run_control": {
          "frozen": true
        }
      },
      "source": [
        "**(d)** In your own words, summarize your findings from the previous exercises. Most importantly, comment on which airlines were the most and least cautious in terms of flight cancellations. Can you think of any reason why this might be? *1 point*"
      ]
    },
    {
      "cell_type": "markdown",
      "source": [
        "**Overall, the exercises indicate that airline carriers can have varying levels of cautiousness when it comes to flight cancellations. An average of around ~50% of flights were cancelled out of LGA during the North American Blizzard of 2013, but most carriers had cancellation proportions ranging between 0.43 and 0.67. YV was undoubtedly the most cautious, with 100% cancellation. AA was the least cautious, with 43% flight cancellation. However, if we examine the information further, we may ultimately conclude that cancellations were pretty evenly spread across carrieres. YV had 100% cancellation because it only had 2 scheduled flights. Meanwhile, American Airlines had 72 scheduled flights, meaning they would have lost a lot more money if they'd cancelled. Therefore, the carriers may have needed to consider the various pros and cons prior to making a final decision.**"
      ],
      "metadata": {
        "id": "07Bfu6-gxbnY"
      }
    },
    {
      "cell_type": "markdown",
      "metadata": {
        "deletable": false,
        "editable": false,
        "id": "pZUVh_a9r3yf",
        "run_control": {
          "frozen": true
        }
      },
      "source": [
        "## Problem 2: Graduate school admissions (4 points)\n",
        "This problem studies a built-in dataset called `UCBAdmissions`. It contains graduate school admissions data from 1973 for six departments at UC Berkeley:"
      ]
    },
    {
      "cell_type": "code",
      "execution_count": null,
      "metadata": {
        "deletable": false,
        "editable": false,
        "id": "Y1n4YDQ8r3yg",
        "vscode": {
          "languageId": "r"
        },
        "colab": {
          "base_uri": "https://localhost:8080/"
        },
        "outputId": "2c983d42-2ada-4c9e-805f-11eaa4bffa53"
      },
      "outputs": [
        {
          "output_type": "stream",
          "name": "stdout",
          "text": [
            "\u001b[90m# A tibble: 24 × 4\u001b[39m\n",
            "   Admit    Gender Dept      n\n",
            "   \u001b[3m\u001b[90m<chr>\u001b[39m\u001b[23m    \u001b[3m\u001b[90m<chr>\u001b[39m\u001b[23m  \u001b[3m\u001b[90m<chr>\u001b[39m\u001b[23m \u001b[3m\u001b[90m<dbl>\u001b[39m\u001b[23m\n",
            "\u001b[90m 1\u001b[39m Admitted Male   A       512\n",
            "\u001b[90m 2\u001b[39m Rejected Male   A       313\n",
            "\u001b[90m 3\u001b[39m Admitted Female A        89\n",
            "\u001b[90m 4\u001b[39m Rejected Female A        19\n",
            "\u001b[90m 5\u001b[39m Admitted Male   B       353\n",
            "\u001b[90m 6\u001b[39m Rejected Male   B       207\n",
            "\u001b[90m 7\u001b[39m Admitted Female B        17\n",
            "\u001b[90m 8\u001b[39m Rejected Female B         8\n",
            "\u001b[90m 9\u001b[39m Admitted Male   C       120\n",
            "\u001b[90m10\u001b[39m Rejected Male   C       205\n",
            "\u001b[90m# … with 14 more rows\u001b[39m\n"
          ]
        }
      ],
      "source": [
        "data(UCBAdmissions)\n",
        "ucb <- as_tibble(UCBAdmissions) %>% print"
      ]
    },
    {
      "cell_type": "markdown",
      "metadata": {
        "deletable": false,
        "editable": false,
        "id": "1-vvEj5zr3yg",
        "run_control": {
          "frozen": true
        }
      },
      "source": [
        "(For privacy reasons the names of the departments have been changed to `A`, `B`, ... , `F`.)"
      ]
    },
    {
      "cell_type": "markdown",
      "metadata": {
        "deletable": false,
        "editable": false,
        "id": "FW-zL6O4r3yg",
        "run_control": {
          "frozen": true
        }
      },
      "source": [
        "**(a)**\n",
        "Using the tool we learned for summarizing and manipulating tidy data, create a summary table from `ucb` which shows the acceptance rate by gender. Your table should have 5 columns: `Department`, `Gender`, `Admitted`, `Rejected`, and `Proportion Admitted`. Store it in a variable called `table3a`. *1 point*\n",
        "\n",
        "<table>\n",
        "<thead><tr><th scope=\"col\">Department</th><th scope=\"col\">Gender</th><th scope=\"col\">Admitted</th><th scope=\"col\">Rejected</th><th scope=\"col\">Proportion_Admitted</th></tr></thead>\n",
        "<tbody>\n",
        "\t<tr><td>A</td> <td>Female   </td><td> &dash;     </td><td>&dash;     </td><td>&dash;</td></tr>\n",
        "\t<tr><td>A</td> <td>Male   </td><td> &dash;     </td><td>&dash;     </td><td>&dash;</td></tr>\n",
        "\t\t<tr><td>B</td> <td>Female   </td><td> &dash;     </td><td>&dash;     </td><td>&dash;</td></tr>\n",
        "\t\t\t<tr><td>B</td> <td>Male   </td><td> &dash;     </td><td>&dash;     </td><td>&dash;</td></tr>\n",
        "\t\t\t\t<tr><td>C</td> <td>Female   </td><td> &dash;     </td><td>&dash;     </td><td>&dash;</td></tr>\n",
        "\t\t\t\t\t<tr><td>C</td> <td>Male   </td><td> &dash;     </td><td>&dash;     </td><td>&dash;</td></tr>\n",
        "\t\t\t\t\t\t<tr><td>D</td> <td>Female   </td><td> &dash;     </td><td>&dash;     </td><td>&dash;</td></tr>\n",
        "\t\t\t\t\t\t\t<tr><td>D</td> <td>Male   </td><td> &dash;     </td><td>&dash;     </td><td>&dash;</td></tr>\n",
        "\t\t\t\t\t\t\t\t<tr><td>E</td> <td>Female   </td><td> &dash;     </td><td>&dash;     </td><td>&dash;</td></tr> \t<tr><td>E</td> <td>Male   </td><td> &dash;     </td><td>&dash;     </td><td>&dash;</td></tr> \t<tr><td>F</td> <td>Female   </td><td> &dash;     </td><td>&dash;     </td><td>&dash;</td></tr> \t<tr><td>F</td> <td>Male   </td><td> &dash;     </td><td>&dash;     </td><td>&dash;</td></tr>\n",
        "</tbody>\n",
        "</table>\n",
        "\n",
        "(A few entries have been provided for you; your job is to write code that will produce the complete table with no blanks.)"
      ]
    },
    {
      "cell_type": "code",
      "execution_count": null,
      "metadata": {
        "id": "-lcDg4LA8zoc",
        "vscode": {
          "languageId": "r"
        },
        "colab": {
          "base_uri": "https://localhost:8080/",
          "height": 474
        },
        "outputId": "69c64731-7364-4c18-a4b2-07b3db93d483"
      },
      "outputs": [
        {
          "output_type": "display_data",
          "data": {
            "text/html": [
              "<table class=\"dataframe\">\n",
              "<caption>A tibble: 12 × 5</caption>\n",
              "<thead>\n",
              "\t<tr><th scope=col>Department</th><th scope=col>Gender</th><th scope=col>Admitted</th><th scope=col>Rejected</th><th scope=col>Proportion_Admitted</th></tr>\n",
              "\t<tr><th scope=col>&lt;chr&gt;</th><th scope=col>&lt;chr&gt;</th><th scope=col>&lt;dbl&gt;</th><th scope=col>&lt;dbl&gt;</th><th scope=col>&lt;dbl&gt;</th></tr>\n",
              "</thead>\n",
              "<tbody>\n",
              "\t<tr><td>A</td><td>Female</td><td> 89</td><td> 19</td><td>0.82407407</td></tr>\n",
              "\t<tr><td>A</td><td>Male  </td><td>512</td><td>313</td><td>0.62060606</td></tr>\n",
              "\t<tr><td>B</td><td>Female</td><td> 17</td><td>  8</td><td>0.68000000</td></tr>\n",
              "\t<tr><td>B</td><td>Male  </td><td>353</td><td>207</td><td>0.63035714</td></tr>\n",
              "\t<tr><td>C</td><td>Female</td><td>202</td><td>391</td><td>0.34064081</td></tr>\n",
              "\t<tr><td>C</td><td>Male  </td><td>120</td><td>205</td><td>0.36923077</td></tr>\n",
              "\t<tr><td>D</td><td>Female</td><td>131</td><td>244</td><td>0.34933333</td></tr>\n",
              "\t<tr><td>D</td><td>Male  </td><td>138</td><td>279</td><td>0.33093525</td></tr>\n",
              "\t<tr><td>E</td><td>Female</td><td> 94</td><td>299</td><td>0.23918575</td></tr>\n",
              "\t<tr><td>E</td><td>Male  </td><td> 53</td><td>138</td><td>0.27748691</td></tr>\n",
              "\t<tr><td>F</td><td>Female</td><td> 24</td><td>317</td><td>0.07038123</td></tr>\n",
              "\t<tr><td>F</td><td>Male  </td><td> 22</td><td>351</td><td>0.05898123</td></tr>\n",
              "</tbody>\n",
              "</table>\n"
            ],
            "text/markdown": "\nA tibble: 12 × 5\n\n| Department &lt;chr&gt; | Gender &lt;chr&gt; | Admitted &lt;dbl&gt; | Rejected &lt;dbl&gt; | Proportion_Admitted &lt;dbl&gt; |\n|---|---|---|---|---|\n| A | Female |  89 |  19 | 0.82407407 |\n| A | Male   | 512 | 313 | 0.62060606 |\n| B | Female |  17 |   8 | 0.68000000 |\n| B | Male   | 353 | 207 | 0.63035714 |\n| C | Female | 202 | 391 | 0.34064081 |\n| C | Male   | 120 | 205 | 0.36923077 |\n| D | Female | 131 | 244 | 0.34933333 |\n| D | Male   | 138 | 279 | 0.33093525 |\n| E | Female |  94 | 299 | 0.23918575 |\n| E | Male   |  53 | 138 | 0.27748691 |\n| F | Female |  24 | 317 | 0.07038123 |\n| F | Male   |  22 | 351 | 0.05898123 |\n\n",
            "text/latex": "A tibble: 12 × 5\n\\begin{tabular}{lllll}\n Department & Gender & Admitted & Rejected & Proportion\\_Admitted\\\\\n <chr> & <chr> & <dbl> & <dbl> & <dbl>\\\\\n\\hline\n\t A & Female &  89 &  19 & 0.82407407\\\\\n\t A & Male   & 512 & 313 & 0.62060606\\\\\n\t B & Female &  17 &   8 & 0.68000000\\\\\n\t B & Male   & 353 & 207 & 0.63035714\\\\\n\t C & Female & 202 & 391 & 0.34064081\\\\\n\t C & Male   & 120 & 205 & 0.36923077\\\\\n\t D & Female & 131 & 244 & 0.34933333\\\\\n\t D & Male   & 138 & 279 & 0.33093525\\\\\n\t E & Female &  94 & 299 & 0.23918575\\\\\n\t E & Male   &  53 & 138 & 0.27748691\\\\\n\t F & Female &  24 & 317 & 0.07038123\\\\\n\t F & Male   &  22 & 351 & 0.05898123\\\\\n\\end{tabular}\n",
            "text/plain": [
              "   Department Gender Admitted Rejected Proportion_Admitted\n",
              "1  A          Female  89       19      0.82407407         \n",
              "2  A          Male   512      313      0.62060606         \n",
              "3  B          Female  17        8      0.68000000         \n",
              "4  B          Male   353      207      0.63035714         \n",
              "5  C          Female 202      391      0.34064081         \n",
              "6  C          Male   120      205      0.36923077         \n",
              "7  D          Female 131      244      0.34933333         \n",
              "8  D          Male   138      279      0.33093525         \n",
              "9  E          Female  94      299      0.23918575         \n",
              "10 E          Male    53      138      0.27748691         \n",
              "11 F          Female  24      317      0.07038123         \n",
              "12 F          Male    22      351      0.05898123         "
            ]
          },
          "metadata": {}
        }
      ],
      "source": [
        "# Your solution here\n",
        "table3a <- group_by(ucb, Gender)\n",
        "table3a <- pivot_wider(ucb, names_from = \"Admit\", values_from = \"n\")\n",
        "table3a <- mutate(table3a, Proportion_Admitted = Admitted/(Admitted + Rejected))\n",
        "table3a <- rename(table3a, Department = \"Dept\")\n",
        "table3a <- select(table3a, Department, Gender, Admitted, Rejected, Proportion_Admitted)\n",
        "table3a <- arrange(table3a, Department, Gender)\n",
        "table3a"
      ]
    },
    {
      "cell_type": "markdown",
      "metadata": {
        "deletable": false,
        "editable": false,
        "id": "nLmq3MuWr3yg",
        "run_control": {
          "frozen": true
        }
      },
      "source": [
        "**(b)**\n",
        "In STATS 250 you [learned](https://www.youtube.com/watch?v=6gfMhsWmnwk) how to test for differences in proportions between two populations. Apply this to part (a) `table3a`. Was the overall proportion of men admitted statistically different from that of women? Perform an appropriate test and interpret your findings. What do these result suggest about admissions practices at UC Berkeley in the early 1970s? *1 point*\n",
        "\n",
        "(Hint: use the `prop.test()` function.)"
      ]
    },
    {
      "cell_type": "code",
      "execution_count": null,
      "metadata": {
        "id": "saP5JKhjen2O",
        "vscode": {
          "languageId": "r"
        },
        "colab": {
          "base_uri": "https://localhost:8080/",
          "height": 208
        },
        "outputId": "da0a6cb6-fc90-48b6-d391-5a23e8f24c80"
      },
      "outputs": [
        {
          "output_type": "display_data",
          "data": {
            "text/plain": [
              "\n",
              "\t2-sample test for equality of proportions with continuity correction\n",
              "\n",
              "data:  c(1198, 557) out of c(2691, 1835)\n",
              "X-squared = 91.61, df = 1, p-value < 2.2e-16\n",
              "alternative hypothesis: two.sided\n",
              "95 percent confidence interval:\n",
              " 0.1129887 0.1703022\n",
              "sample estimates:\n",
              "   prop 1    prop 2 \n",
              "0.4451877 0.3035422 \n"
            ]
          },
          "metadata": {}
        }
      ],
      "source": [
        "# You solution here\n",
        "table3b <- table3a\n",
        "\n",
        "males <- filter(table3b, Gender == \"Male\")\n",
        "admitted_males <- sum(males$Admitted)\n",
        "all_males <- sum(males$Admitted) + sum(males$Rejected)\n",
        "\n",
        "females <- filter(table3b, Gender == \"Female\")\n",
        "admitted_females <- sum(females$Admitted)\n",
        "all_females <- sum(females$Admitted) + sum(females$Rejected)\n",
        "\n",
        "prop.test(x = c(1198, 557), n = c(2691, 1835), alternative = \"two.sided\")"
      ]
    },
    {
      "cell_type": "markdown",
      "source": [
        "**The X-squared value was 91.61, with a p-value of 2.2e-16. This means that there is a statistically significant higher proportion of males being accepted to UC Berkeley than females in the early 70s.**"
      ],
      "metadata": {
        "id": "Le9Yzb5kTP5x"
      }
    },
    {
      "cell_type": "markdown",
      "metadata": {
        "deletable": false,
        "editable": false,
        "id": "MqYcugDnr3yg",
        "run_control": {
          "frozen": true
        }
      },
      "source": [
        "**(c)**\n",
        "Reproduce the table from Problem 1, but now stratify by department.\n",
        "Compute the male and female acceptance proportion for each department separately. *1 point*\n",
        "\n",
        "Your resulting table should look like:\n",
        "\n",
        "\n",
        "<table>\n",
        "<thead><tr><th scope=\"col\">Dept</th><th scope=\"col\">Female_Admitted</th><th scope=\"col\">Female_Rejected</th><th scope=\"col\">Male_Admitted</th><th scope=\"col\">Male_Rejected</th><th scope=\"col\">Male_Proportion_Admitted</th><th scope=\"col\">Female_Proportion_Admitted</th></tr></thead>\n",
        "<tbody>\n",
        "\t<tr><td>A         </td><td> 89      </td><td> &dash;       </td><td>&dash;       </td><td>&dash;       </td><td>&dash;</td><td>&dash;</td></tr>\n",
        "\t<tr><td>B         </td><td> &dash;       </td><td>  &dash;       </td><td>353</td><td>&dash;       </td><td>&dash;</td><td>&dash;</td></tr>\n",
        "\t<tr><td>C         </td><td> &dash;       </td><td>  391\t     </td><td>&dash;</td><td>&dash;       </td><td>&dash;</td><td>&dash;</td></tr>\n",
        "\t<tr><td>D         </td><td> &dash;       </td><td>  &dash;       </td><td>&dash;</td><td>&dash;       </td><td>0.33093525\t</td><td>&dash;</td></tr>\n",
        "\t<tr><td>E         </td><td> &dash;       </td><td>  &dash;       </td><td>&dash;</td><td>138       </td><td>&dash;</td><td>&dash;</td></tr>\n",
        " \t<tr><td>F         </td><td> &dash;       </td><td>  &dash;       </td><td>&dash;</td><td>&dash;       </td><td>&dash;</td><td>0.07038123</td></tr>\n",
        "\n",
        "</tbody>\n",
        "</table>\n",
        "\n",
        "(Again, a few table entries have been provided to help you check your work, and it is your job to provide code that computes the entire table automatically.)"
      ]
    },
    {
      "cell_type": "code",
      "execution_count": null,
      "metadata": {
        "id": "p7jNvKIS8qvl",
        "vscode": {
          "languageId": "r"
        },
        "colab": {
          "base_uri": "https://localhost:8080/",
          "height": 306
        },
        "outputId": "476715a5-73b1-4854-df06-a3bd509c77b0"
      },
      "outputs": [
        {
          "output_type": "display_data",
          "data": {
            "text/html": [
              "<table class=\"dataframe\">\n",
              "<caption>A grouped_df: 6 × 7</caption>\n",
              "<thead>\n",
              "\t<tr><th scope=col>Dept</th><th scope=col>Female_Admitted</th><th scope=col>Female_Rejected</th><th scope=col>Male_Admitted</th><th scope=col>Male_Rejected</th><th scope=col>Male_Proportion_Admitted</th><th scope=col>Female_Proportion_Admitted</th></tr>\n",
              "\t<tr><th scope=col>&lt;chr&gt;</th><th scope=col>&lt;dbl&gt;</th><th scope=col>&lt;dbl&gt;</th><th scope=col>&lt;dbl&gt;</th><th scope=col>&lt;dbl&gt;</th><th scope=col>&lt;dbl&gt;</th><th scope=col>&lt;dbl&gt;</th></tr>\n",
              "</thead>\n",
              "<tbody>\n",
              "\t<tr><td>A</td><td> 89</td><td> 19</td><td>512</td><td>313</td><td>0.62060606</td><td>0.82407407</td></tr>\n",
              "\t<tr><td>B</td><td> 17</td><td>  8</td><td>353</td><td>207</td><td>0.63035714</td><td>0.68000000</td></tr>\n",
              "\t<tr><td>C</td><td>202</td><td>391</td><td>120</td><td>205</td><td>0.36923077</td><td>0.34064081</td></tr>\n",
              "\t<tr><td>D</td><td>131</td><td>244</td><td>138</td><td>279</td><td>0.33093525</td><td>0.34933333</td></tr>\n",
              "\t<tr><td>E</td><td> 94</td><td>299</td><td> 53</td><td>138</td><td>0.27748691</td><td>0.23918575</td></tr>\n",
              "\t<tr><td>F</td><td> 24</td><td>317</td><td> 22</td><td>351</td><td>0.05898123</td><td>0.07038123</td></tr>\n",
              "</tbody>\n",
              "</table>\n"
            ],
            "text/markdown": "\nA grouped_df: 6 × 7\n\n| Dept &lt;chr&gt; | Female_Admitted &lt;dbl&gt; | Female_Rejected &lt;dbl&gt; | Male_Admitted &lt;dbl&gt; | Male_Rejected &lt;dbl&gt; | Male_Proportion_Admitted &lt;dbl&gt; | Female_Proportion_Admitted &lt;dbl&gt; |\n|---|---|---|---|---|---|---|\n| A |  89 |  19 | 512 | 313 | 0.62060606 | 0.82407407 |\n| B |  17 |   8 | 353 | 207 | 0.63035714 | 0.68000000 |\n| C | 202 | 391 | 120 | 205 | 0.36923077 | 0.34064081 |\n| D | 131 | 244 | 138 | 279 | 0.33093525 | 0.34933333 |\n| E |  94 | 299 |  53 | 138 | 0.27748691 | 0.23918575 |\n| F |  24 | 317 |  22 | 351 | 0.05898123 | 0.07038123 |\n\n",
            "text/latex": "A grouped\\_df: 6 × 7\n\\begin{tabular}{lllllll}\n Dept & Female\\_Admitted & Female\\_Rejected & Male\\_Admitted & Male\\_Rejected & Male\\_Proportion\\_Admitted & Female\\_Proportion\\_Admitted\\\\\n <chr> & <dbl> & <dbl> & <dbl> & <dbl> & <dbl> & <dbl>\\\\\n\\hline\n\t A &  89 &  19 & 512 & 313 & 0.62060606 & 0.82407407\\\\\n\t B &  17 &   8 & 353 & 207 & 0.63035714 & 0.68000000\\\\\n\t C & 202 & 391 & 120 & 205 & 0.36923077 & 0.34064081\\\\\n\t D & 131 & 244 & 138 & 279 & 0.33093525 & 0.34933333\\\\\n\t E &  94 & 299 &  53 & 138 & 0.27748691 & 0.23918575\\\\\n\t F &  24 & 317 &  22 & 351 & 0.05898123 & 0.07038123\\\\\n\\end{tabular}\n",
            "text/plain": [
              "  Dept Female_Admitted Female_Rejected Male_Admitted Male_Rejected\n",
              "1 A     89              19             512           313          \n",
              "2 B     17               8             353           207          \n",
              "3 C    202             391             120           205          \n",
              "4 D    131             244             138           279          \n",
              "5 E     94             299              53           138          \n",
              "6 F     24             317              22           351          \n",
              "  Male_Proportion_Admitted Female_Proportion_Admitted\n",
              "1 0.62060606               0.82407407                \n",
              "2 0.63035714               0.68000000                \n",
              "3 0.36923077               0.34064081                \n",
              "4 0.33093525               0.34933333                \n",
              "5 0.27748691               0.23918575                \n",
              "6 0.05898123               0.07038123                "
            ]
          },
          "metadata": {}
        }
      ],
      "source": [
        "# Your solution here\n",
        "table3c <- pivot_wider(ucb, names_from = \"Admit\", values_from = \"n\")\n",
        "table3c <- group_by(table3c, Dept)\n",
        "table3c <- pivot_wider(table3c, names_from = \"Gender\",\n",
        "  values_from = c(\"Admitted\", \"Rejected\"))\n",
        "table3c <- mutate(table3c,\n",
        "  Male_Proportion_Admitted = Admitted_Male/(Admitted_Male + Rejected_Male))\n",
        "table3c <- mutate(table3c,\n",
        "  Female_Proportion_Admitted = Admitted_Female/(Admitted_Female + Rejected_Female))\n",
        "table3c <- select(table3c,\n",
        "  Dept,\n",
        "  Admitted_Female,\n",
        "  Rejected_Female,\n",
        "  Admitted_Male,\n",
        "  Rejected_Male,\n",
        "  Male_Proportion_Admitted,\n",
        "  Female_Proportion_Admitted)\n",
        "table3c <- rename(table3c,\n",
        "  Female_Admitted = \"Admitted_Female\",\n",
        "  Female_Rejected = \"Rejected_Female\",\n",
        "  Male_Admitted = \"Admitted_Male\",\n",
        "  Male_Rejected = \"Rejected_Male\")\n",
        "table3c"
      ]
    },
    {
      "cell_type": "markdown",
      "metadata": {
        "deletable": false,
        "editable": false,
        "id": "m2oat3gEr3yg",
        "run_control": {
          "frozen": true
        }
      },
      "source": [
        "**(d)**\n",
        "Do the department-level findings in part (c) agree or disagree with what you concluded in part (b)? Which departments agree with your conclusion in part (b) and which disagree? **Explain with numerical evidence for full credit.** *1 point*"
      ]
    },
    {
      "cell_type": "code",
      "execution_count": null,
      "metadata": {
        "id": "N5QT3VGszYxy",
        "colab": {
          "base_uri": "https://localhost:8080/",
          "height": 1000
        },
        "outputId": "bebb156d-3cb2-4dde-997e-a1d03b3e28f5"
      },
      "outputs": [
        {
          "output_type": "display_data",
          "data": {
            "text/plain": [
              "\n",
              "\t2-sample test for equality of proportions with continuity correction\n",
              "\n",
              "data:  c(89, 512) out of c(108, 825)\n",
              "X-squared = 16.372, df = 1, p-value = 5.205e-05\n",
              "alternative hypothesis: two.sided\n",
              "95 percent confidence interval:\n",
              " 0.1191564 0.2877797\n",
              "sample estimates:\n",
              "   prop 1    prop 2 \n",
              "0.8240741 0.6206061 \n"
            ]
          },
          "metadata": {}
        },
        {
          "output_type": "display_data",
          "data": {
            "text/plain": [
              "\n",
              "\t2-sample test for equality of proportions with continuity correction\n",
              "\n",
              "data:  c(17, 353) out of c(25, 560)\n",
              "X-squared = 0.085098, df = 1, p-value = 0.7705\n",
              "alternative hypothesis: two.sided\n",
              "95 percent confidence interval:\n",
              " -0.1584249  0.2577106\n",
              "sample estimates:\n",
              "   prop 1    prop 2 \n",
              "0.6800000 0.6303571 \n"
            ]
          },
          "metadata": {}
        },
        {
          "output_type": "display_data",
          "data": {
            "text/plain": [
              "\n",
              "\t2-sample test for equality of proportions with continuity correction\n",
              "\n",
              "data:  c(202, 120) out of c(593, 325)\n",
              "X-squared = 0.63322, df = 1, p-value = 0.4262\n",
              "alternative hypothesis: two.sided\n",
              "95 percent confidence interval:\n",
              " -0.09583940  0.03865948\n",
              "sample estimates:\n",
              "   prop 1    prop 2 \n",
              "0.3406408 0.3692308 \n"
            ]
          },
          "metadata": {}
        },
        {
          "output_type": "display_data",
          "data": {
            "text/plain": [
              "\n",
              "\t2-sample test for equality of proportions with continuity correction\n",
              "\n",
              "data:  c(131, 138) out of c(375, 417)\n",
              "X-squared = 0.22159, df = 1, p-value = 0.6378\n",
              "alternative hypothesis: two.sided\n",
              "95 percent confidence interval:\n",
              " -0.05022631  0.08702248\n",
              "sample estimates:\n",
              "   prop 1    prop 2 \n",
              "0.3493333 0.3309353 \n"
            ]
          },
          "metadata": {}
        },
        {
          "output_type": "display_data",
          "data": {
            "text/plain": [
              "\n",
              "\t2-sample test for equality of proportions with continuity correction\n",
              "\n",
              "data:  c(94, 53) out of c(393, 191)\n",
              "X-squared = 0.80805, df = 1, p-value = 0.3687\n",
              "alternative hypothesis: two.sided\n",
              "95 percent confidence interval:\n",
              " -0.11842143  0.04181911\n",
              "sample estimates:\n",
              "   prop 1    prop 2 \n",
              "0.2391858 0.2774869 \n"
            ]
          },
          "metadata": {}
        },
        {
          "output_type": "display_data",
          "data": {
            "text/plain": [
              "\n",
              "\t2-sample test for equality of proportions with continuity correction\n",
              "\n",
              "data:  c(24, 22) out of c(341, 373)\n",
              "X-squared = 0.21824, df = 1, p-value = 0.6404\n",
              "alternative hypothesis: two.sided\n",
              "95 percent confidence interval:\n",
              " -0.02758231  0.05038231\n",
              "sample estimates:\n",
              "    prop 1     prop 2 \n",
              "0.07038123 0.05898123 \n"
            ]
          },
          "metadata": {}
        }
      ],
      "source": [
        "# Your solution here\n",
        "dpt_a <- prop.test(x = c(89, 512), n = c(108, 825))\n",
        "dpt_b <- prop.test(x = c(17, 353), n = c(25, 560))\n",
        "dpt_c <- prop.test(x = c(202, 120), n = c(593, 325))\n",
        "dpt_d <- prop.test(x = c(131, 138), n = c(375, 417))\n",
        "dpt_e <- prop.test(x = c(94, 53), n = c(393, 191))\n",
        "dpt_f <- prop.test(x = c(24, 22), n = c(341, 373))\n",
        "\n",
        "dpt_a; dpt_b; dpt_c; dpt_d; dpt_e; dpt_f"
      ]
    },
    {
      "cell_type": "markdown",
      "source": [
        "**Department A confirms the results obtained by the proportion results from part c, but Departments B-F seem to contradict the result we found that said males are preferentially accepted over females. This was because the p-value for these proportion tests was greater than 0.05 and chi-squared value was very small. Overall, this suggests that in Department A, males *were* preferentially admitted, but Departments B-F tests suggest that males and females were actually admitted equally.**"
      ],
      "metadata": {
        "id": "QJMJtYNCfUlG"
      }
    },
    {
      "cell_type": "markdown",
      "metadata": {
        "deletable": false,
        "editable": false,
        "id": "Bhxx8GT5r3yh",
        "nbgrader": {
          "grade": false,
          "grade_id": "cell-9ea1f017dd33edff",
          "locked": true,
          "schema_version": 3,
          "solution": false
        },
        "run_control": {
          "frozen": true
        }
      },
      "source": [
        "## Problem 3: Popular Baby Names of the Decade (2 points)\n",
        "Recall from lecture the `babynames` dataset that contains a lot of information about frequency of baby names over time."
      ]
    },
    {
      "cell_type": "code",
      "source": [
        "install.packages(\"babynames\")\n",
        "library(babynames)\n",
        "head(babynames)"
      ],
      "metadata": {
        "colab": {
          "base_uri": "https://localhost:8080/",
          "height": 338
        },
        "id": "osGvRQOFaDwJ",
        "outputId": "252adac0-e404-4955-bc0f-fb5db9e5f432"
      },
      "execution_count": null,
      "outputs": [
        {
          "output_type": "stream",
          "name": "stderr",
          "text": [
            "Installing package into ‘/usr/local/lib/R/site-library’\n",
            "(as ‘lib’ is unspecified)\n",
            "\n"
          ]
        },
        {
          "output_type": "display_data",
          "data": {
            "text/html": [
              "<table class=\"dataframe\">\n",
              "<caption>A tibble: 6 × 5</caption>\n",
              "<thead>\n",
              "\t<tr><th scope=col>year</th><th scope=col>sex</th><th scope=col>name</th><th scope=col>n</th><th scope=col>prop</th></tr>\n",
              "\t<tr><th scope=col>&lt;dbl&gt;</th><th scope=col>&lt;chr&gt;</th><th scope=col>&lt;chr&gt;</th><th scope=col>&lt;int&gt;</th><th scope=col>&lt;dbl&gt;</th></tr>\n",
              "</thead>\n",
              "<tbody>\n",
              "\t<tr><td>1880</td><td>F</td><td>Mary     </td><td>7065</td><td>0.07238359</td></tr>\n",
              "\t<tr><td>1880</td><td>F</td><td>Anna     </td><td>2604</td><td>0.02667896</td></tr>\n",
              "\t<tr><td>1880</td><td>F</td><td>Emma     </td><td>2003</td><td>0.02052149</td></tr>\n",
              "\t<tr><td>1880</td><td>F</td><td>Elizabeth</td><td>1939</td><td>0.01986579</td></tr>\n",
              "\t<tr><td>1880</td><td>F</td><td>Minnie   </td><td>1746</td><td>0.01788843</td></tr>\n",
              "\t<tr><td>1880</td><td>F</td><td>Margaret </td><td>1578</td><td>0.01616720</td></tr>\n",
              "</tbody>\n",
              "</table>\n"
            ],
            "text/markdown": "\nA tibble: 6 × 5\n\n| year &lt;dbl&gt; | sex &lt;chr&gt; | name &lt;chr&gt; | n &lt;int&gt; | prop &lt;dbl&gt; |\n|---|---|---|---|---|\n| 1880 | F | Mary      | 7065 | 0.07238359 |\n| 1880 | F | Anna      | 2604 | 0.02667896 |\n| 1880 | F | Emma      | 2003 | 0.02052149 |\n| 1880 | F | Elizabeth | 1939 | 0.01986579 |\n| 1880 | F | Minnie    | 1746 | 0.01788843 |\n| 1880 | F | Margaret  | 1578 | 0.01616720 |\n\n",
            "text/latex": "A tibble: 6 × 5\n\\begin{tabular}{lllll}\n year & sex & name & n & prop\\\\\n <dbl> & <chr> & <chr> & <int> & <dbl>\\\\\n\\hline\n\t 1880 & F & Mary      & 7065 & 0.07238359\\\\\n\t 1880 & F & Anna      & 2604 & 0.02667896\\\\\n\t 1880 & F & Emma      & 2003 & 0.02052149\\\\\n\t 1880 & F & Elizabeth & 1939 & 0.01986579\\\\\n\t 1880 & F & Minnie    & 1746 & 0.01788843\\\\\n\t 1880 & F & Margaret  & 1578 & 0.01616720\\\\\n\\end{tabular}\n",
            "text/plain": [
              "  year sex name      n    prop      \n",
              "1 1880 F   Mary      7065 0.07238359\n",
              "2 1880 F   Anna      2604 0.02667896\n",
              "3 1880 F   Emma      2003 0.02052149\n",
              "4 1880 F   Elizabeth 1939 0.01986579\n",
              "5 1880 F   Minnie    1746 0.01788843\n",
              "6 1880 F   Margaret  1578 0.01616720"
            ]
          },
          "metadata": {}
        }
      ]
    },
    {
      "cell_type": "markdown",
      "metadata": {
        "deletable": false,
        "editable": false,
        "id": "V933LtNUr3yh",
        "run_control": {
          "frozen": true
        }
      },
      "source": [
        "**(a)** Generate a table that has **decade** on the vertical axis, and the most popular male **and** female name of each decade. A decade will be definied by the years ___0 - ___9. So for example, 1880-1889 is a decade followed by 1890-1899, etc. *1 point*\n",
        "\n",
        "Hint: The `cut()` function can be used to \"discretize\" a continuous variable by placing each continuous observation into a bin. For example:"
      ]
    },
    {
      "cell_type": "code",
      "execution_count": null,
      "metadata": {
        "deletable": false,
        "editable": false,
        "id": "r_FJDqfszYxy",
        "colab": {
          "base_uri": "https://localhost:8080/",
          "height": 52
        },
        "outputId": "4f49ceb7-f95c-430c-a311-c701f5286074"
      },
      "outputs": [
        {
          "output_type": "display_data",
          "data": {
            "text/html": [
              "<style>\n",
              ".list-inline {list-style: none; margin:0; padding: 0}\n",
              ".list-inline>li {display: inline-block}\n",
              ".list-inline>li:not(:last-child)::after {content: \"\\00b7\"; padding: 0 .5ex}\n",
              "</style>\n",
              "<ol class=list-inline><li>(0,5]</li><li>(0,5]</li><li>(0,5]</li><li>(0,5]</li><li>(0,5]</li><li>(5,10]</li><li>(5,10]</li><li>(5,10]</li><li>(5,10]</li><li>(5,10]</li></ol>\n",
              "\n",
              "<details>\n",
              "\t<summary style=display:list-item;cursor:pointer>\n",
              "\t\t<strong>Levels</strong>:\n",
              "\t</summary>\n",
              "\t<style>\n",
              "\t.list-inline {list-style: none; margin:0; padding: 0}\n",
              "\t.list-inline>li {display: inline-block}\n",
              "\t.list-inline>li:not(:last-child)::after {content: \"\\00b7\"; padding: 0 .5ex}\n",
              "\t</style>\n",
              "\t<ol class=list-inline><li>'(0,5]'</li><li>'(5,10]'</li></ol>\n",
              "</details>"
            ],
            "text/markdown": "1. (0,5]\n2. (0,5]\n3. (0,5]\n4. (0,5]\n5. (0,5]\n6. (5,10]\n7. (5,10]\n8. (5,10]\n9. (5,10]\n10. (5,10]\n\n\n\n**Levels**: 1. '(0,5]'\n2. '(5,10]'\n\n\n",
            "text/latex": "\\begin{enumerate*}\n\\item (0,5{]}\n\\item (0,5{]}\n\\item (0,5{]}\n\\item (0,5{]}\n\\item (0,5{]}\n\\item (5,10{]}\n\\item (5,10{]}\n\\item (5,10{]}\n\\item (5,10{]}\n\\item (5,10{]}\n\\end{enumerate*}\n\n\\emph{Levels}: \\begin{enumerate*}\n\\item '(0,5{]}'\n\\item '(5,10{]}'\n\\end{enumerate*}\n",
            "text/plain": [
              " [1] (0,5]  (0,5]  (0,5]  (0,5]  (0,5]  (5,10] (5,10] (5,10] (5,10] (5,10]\n",
              "Levels: (0,5] (5,10]"
            ]
          },
          "metadata": {}
        }
      ],
      "source": [
        "v = 1:10  # vector of the numbers 1 through 10\n",
        "cut(v, breaks=c(0, 5, 10))"
      ]
    },
    {
      "cell_type": "markdown",
      "metadata": {
        "deletable": false,
        "editable": false,
        "run_control": {
          "frozen": true
        },
        "id": "i7evjh-uzYxy"
      },
      "source": [
        "converts the vector $v=(1, \\dots, 10)$ into a *factor* (discrete variable) that has two levels: $(0,5]$ and $(5, 10]$."
      ]
    },
    {
      "cell_type": "code",
      "source": [
        "popular_names <- babynames"
      ],
      "metadata": {
        "id": "Z9bHwRm5Wg2N"
      },
      "execution_count": null,
      "outputs": []
    },
    {
      "cell_type": "code",
      "source": [
        "keys = list(list(1880,1889,\"1880s\"),\n",
        "            list(1890,1899,\"1890s\"),\n",
        "            list(1900,1909,\"1900s\"),\n",
        "            list(1910,1919,\"1910s\"),\n",
        "            list(1920,1929,\"1920s\"),\n",
        "            list(1930,1939,\"1930s\"),\n",
        "            list(1940,1949,\"1940s\"),\n",
        "            list(1950,1959,\"1950s\"),\n",
        "            list(1960,1969,\"1960s\"),\n",
        "            list(1970,1979,\"1970s\"),\n",
        "            list(1980,1989,\"1980s\"),\n",
        "            list(1990,1999,\"1990s\"),\n",
        "            list(2000,2009,\"2000s\"),\n",
        "            list(2010,2019,\"2010s\"))\n",
        "popular_names$decade = NA\n",
        "for(k in keys){\n",
        "  popular_names$decade[popular_names$year >= k[[1]] & popular_names$year <= k[[2]]]=k[[3]]\n",
        "}"
      ],
      "metadata": {
        "id": "uz1aNhG5pAgj"
      },
      "execution_count": null,
      "outputs": []
    },
    {
      "cell_type": "code",
      "source": [
        "install.packages(\"dplyr\")\n",
        "library(dplyr)"
      ],
      "metadata": {
        "id": "WuBVuFL5jPmA"
      },
      "execution_count": null,
      "outputs": []
    },
    {
      "cell_type": "code",
      "source": [
        "begin_tidy <- group_by(popular_names, decade, sex, name)\n",
        "select_tidy <- select(begin_tidy, decade, sex, name, n)\n",
        "select_tidy <- arrange(select_tidy, decade, desc(n))\n",
        "sum_by_Name <- summarise(select_tidy, totals_per_decade = sum(n))\n",
        "sum_by_Name <- arrange(sum_by_Name, decade, desc(totals_per_decade))"
      ],
      "metadata": {
        "id": "3GlnnH-PZI7b"
      },
      "execution_count": null,
      "outputs": []
    },
    {
      "cell_type": "code",
      "source": [
        "table3c <- group_by(sum_by_Name, decade, sex)\n",
        "table3c <- arrange(table3c, decade, sex, desc(totals_per_decade))\n",
        "new_analyze <- top_n(table3c, 1, totals_per_decade)\n",
        "select(new_analyze, decade, name, sex, totals_per_decade)"
      ],
      "metadata": {
        "colab": {
          "base_uri": "https://localhost:8080/",
          "height": 976
        },
        "id": "v20ZAd17UNjR",
        "outputId": "9c4a956d-5947-4c18-ddfb-82f26433e554"
      },
      "execution_count": null,
      "outputs": [
        {
          "output_type": "display_data",
          "data": {
            "text/html": [
              "<table class=\"dataframe\">\n",
              "<caption>A grouped_df: 28 × 4</caption>\n",
              "<thead>\n",
              "\t<tr><th scope=col>decade</th><th scope=col>name</th><th scope=col>sex</th><th scope=col>totals_per_decade</th></tr>\n",
              "\t<tr><th scope=col>&lt;chr&gt;</th><th scope=col>&lt;chr&gt;</th><th scope=col>&lt;chr&gt;</th><th scope=col>&lt;int&gt;</th></tr>\n",
              "</thead>\n",
              "<tbody>\n",
              "\t<tr><td>1880s</td><td>Mary    </td><td>F</td><td> 91668</td></tr>\n",
              "\t<tr><td>1880s</td><td>John    </td><td>M</td><td> 89950</td></tr>\n",
              "\t<tr><td>1890s</td><td>Mary    </td><td>F</td><td>131136</td></tr>\n",
              "\t<tr><td>1890s</td><td>John    </td><td>M</td><td> 80665</td></tr>\n",
              "\t<tr><td>1900s</td><td>Mary    </td><td>F</td><td>161505</td></tr>\n",
              "\t<tr><td>1900s</td><td>John    </td><td>M</td><td> 84593</td></tr>\n",
              "\t<tr><td>1910s</td><td>Mary    </td><td>F</td><td>478642</td></tr>\n",
              "\t<tr><td>1910s</td><td>John    </td><td>M</td><td>376323</td></tr>\n",
              "\t<tr><td>1920s</td><td>Mary    </td><td>F</td><td>701746</td></tr>\n",
              "\t<tr><td>1920s</td><td>Robert  </td><td>M</td><td>576362</td></tr>\n",
              "\t<tr><td>1930s</td><td>Mary    </td><td>F</td><td>572942</td></tr>\n",
              "\t<tr><td>1930s</td><td>Robert  </td><td>M</td><td>590716</td></tr>\n",
              "\t<tr><td>1940s</td><td>Mary    </td><td>F</td><td>640023</td></tr>\n",
              "\t<tr><td>1940s</td><td>James   </td><td>M</td><td>795660</td></tr>\n",
              "\t<tr><td>1950s</td><td>Mary    </td><td>F</td><td>625558</td></tr>\n",
              "\t<tr><td>1950s</td><td>James   </td><td>M</td><td>843489</td></tr>\n",
              "\t<tr><td>1960s</td><td>Lisa    </td><td>F</td><td>496972</td></tr>\n",
              "\t<tr><td>1960s</td><td>Michael </td><td>M</td><td>833254</td></tr>\n",
              "\t<tr><td>1970s</td><td>Jennifer</td><td>F</td><td>581772</td></tr>\n",
              "\t<tr><td>1970s</td><td>Michael </td><td>M</td><td>707647</td></tr>\n",
              "\t<tr><td>1980s</td><td>Jessica </td><td>F</td><td>469472</td></tr>\n",
              "\t<tr><td>1980s</td><td>Michael </td><td>M</td><td>663690</td></tr>\n",
              "\t<tr><td>1990s</td><td>Jessica </td><td>F</td><td>303086</td></tr>\n",
              "\t<tr><td>1990s</td><td>Michael </td><td>M</td><td>462314</td></tr>\n",
              "\t<tr><td>2000s</td><td>Emily   </td><td>F</td><td>223658</td></tr>\n",
              "\t<tr><td>2000s</td><td>Jacob   </td><td>M</td><td>273793</td></tr>\n",
              "\t<tr><td>2010s</td><td>Emma    </td><td>F</td><td>158573</td></tr>\n",
              "\t<tr><td>2010s</td><td>Noah    </td><td>M</td><td>145195</td></tr>\n",
              "</tbody>\n",
              "</table>\n"
            ],
            "text/markdown": "\nA grouped_df: 28 × 4\n\n| decade &lt;chr&gt; | name &lt;chr&gt; | sex &lt;chr&gt; | totals_per_decade &lt;int&gt; |\n|---|---|---|---|\n| 1880s | Mary     | F |  91668 |\n| 1880s | John     | M |  89950 |\n| 1890s | Mary     | F | 131136 |\n| 1890s | John     | M |  80665 |\n| 1900s | Mary     | F | 161505 |\n| 1900s | John     | M |  84593 |\n| 1910s | Mary     | F | 478642 |\n| 1910s | John     | M | 376323 |\n| 1920s | Mary     | F | 701746 |\n| 1920s | Robert   | M | 576362 |\n| 1930s | Mary     | F | 572942 |\n| 1930s | Robert   | M | 590716 |\n| 1940s | Mary     | F | 640023 |\n| 1940s | James    | M | 795660 |\n| 1950s | Mary     | F | 625558 |\n| 1950s | James    | M | 843489 |\n| 1960s | Lisa     | F | 496972 |\n| 1960s | Michael  | M | 833254 |\n| 1970s | Jennifer | F | 581772 |\n| 1970s | Michael  | M | 707647 |\n| 1980s | Jessica  | F | 469472 |\n| 1980s | Michael  | M | 663690 |\n| 1990s | Jessica  | F | 303086 |\n| 1990s | Michael  | M | 462314 |\n| 2000s | Emily    | F | 223658 |\n| 2000s | Jacob    | M | 273793 |\n| 2010s | Emma     | F | 158573 |\n| 2010s | Noah     | M | 145195 |\n\n",
            "text/latex": "A grouped\\_df: 28 × 4\n\\begin{tabular}{llll}\n decade & name & sex & totals\\_per\\_decade\\\\\n <chr> & <chr> & <chr> & <int>\\\\\n\\hline\n\t 1880s & Mary     & F &  91668\\\\\n\t 1880s & John     & M &  89950\\\\\n\t 1890s & Mary     & F & 131136\\\\\n\t 1890s & John     & M &  80665\\\\\n\t 1900s & Mary     & F & 161505\\\\\n\t 1900s & John     & M &  84593\\\\\n\t 1910s & Mary     & F & 478642\\\\\n\t 1910s & John     & M & 376323\\\\\n\t 1920s & Mary     & F & 701746\\\\\n\t 1920s & Robert   & M & 576362\\\\\n\t 1930s & Mary     & F & 572942\\\\\n\t 1930s & Robert   & M & 590716\\\\\n\t 1940s & Mary     & F & 640023\\\\\n\t 1940s & James    & M & 795660\\\\\n\t 1950s & Mary     & F & 625558\\\\\n\t 1950s & James    & M & 843489\\\\\n\t 1960s & Lisa     & F & 496972\\\\\n\t 1960s & Michael  & M & 833254\\\\\n\t 1970s & Jennifer & F & 581772\\\\\n\t 1970s & Michael  & M & 707647\\\\\n\t 1980s & Jessica  & F & 469472\\\\\n\t 1980s & Michael  & M & 663690\\\\\n\t 1990s & Jessica  & F & 303086\\\\\n\t 1990s & Michael  & M & 462314\\\\\n\t 2000s & Emily    & F & 223658\\\\\n\t 2000s & Jacob    & M & 273793\\\\\n\t 2010s & Emma     & F & 158573\\\\\n\t 2010s & Noah     & M & 145195\\\\\n\\end{tabular}\n",
            "text/plain": [
              "   decade name     sex totals_per_decade\n",
              "1  1880s  Mary     F    91668           \n",
              "2  1880s  John     M    89950           \n",
              "3  1890s  Mary     F   131136           \n",
              "4  1890s  John     M    80665           \n",
              "5  1900s  Mary     F   161505           \n",
              "6  1900s  John     M    84593           \n",
              "7  1910s  Mary     F   478642           \n",
              "8  1910s  John     M   376323           \n",
              "9  1920s  Mary     F   701746           \n",
              "10 1920s  Robert   M   576362           \n",
              "11 1930s  Mary     F   572942           \n",
              "12 1930s  Robert   M   590716           \n",
              "13 1940s  Mary     F   640023           \n",
              "14 1940s  James    M   795660           \n",
              "15 1950s  Mary     F   625558           \n",
              "16 1950s  James    M   843489           \n",
              "17 1960s  Lisa     F   496972           \n",
              "18 1960s  Michael  M   833254           \n",
              "19 1970s  Jennifer F   581772           \n",
              "20 1970s  Michael  M   707647           \n",
              "21 1980s  Jessica  F   469472           \n",
              "22 1980s  Michael  M   663690           \n",
              "23 1990s  Jessica  F   303086           \n",
              "24 1990s  Michael  M   462314           \n",
              "25 2000s  Emily    F   223658           \n",
              "26 2000s  Jacob    M   273793           \n",
              "27 2010s  Emma     F   158573           \n",
              "28 2010s  Noah     M   145195           "
            ]
          },
          "metadata": {}
        }
      ]
    },
    {
      "cell_type": "markdown",
      "metadata": {
        "id": "eN-86xfOr3yh"
      },
      "source": [
        "**(b)** Do any names appear more than once? Write code that converts the table from part (a) into a dataframe with all the names that show up more than once. **Manual answers will not receive credit. Your code should automatically convert the table to a new one showing the duplicated names.** *1 point*"
      ]
    },
    {
      "cell_type": "code",
      "execution_count": null,
      "metadata": {
        "id": "-UQqqY-7cIPc",
        "vscode": {
          "languageId": "r"
        },
        "colab": {
          "base_uri": "https://localhost:8080/",
          "height": 304
        },
        "outputId": "dacaa078-1d84-41e1-9866-ea903aa11dba"
      },
      "outputs": [
        {
          "output_type": "stream",
          "name": "stderr",
          "text": [
            "\u001b[1m\u001b[22mAdding missing grouping variables: `name`\n"
          ]
        },
        {
          "output_type": "display_data",
          "data": {
            "text/html": [
              "<table class=\"dataframe\">\n",
              "<caption>A grouped_df: 6 × 2</caption>\n",
              "<thead>\n",
              "\t<tr><th scope=col>name</th><th scope=col>duplicate</th></tr>\n",
              "\t<tr><th scope=col>&lt;chr&gt;</th><th scope=col>&lt;int&gt;</th></tr>\n",
              "</thead>\n",
              "<tbody>\n",
              "\t<tr><td>James  </td><td>2</td></tr>\n",
              "\t<tr><td>Jessica</td><td>2</td></tr>\n",
              "\t<tr><td>John   </td><td>4</td></tr>\n",
              "\t<tr><td>Mary   </td><td>8</td></tr>\n",
              "\t<tr><td>Michael</td><td>4</td></tr>\n",
              "\t<tr><td>Robert </td><td>2</td></tr>\n",
              "</tbody>\n",
              "</table>\n"
            ],
            "text/markdown": "\nA grouped_df: 6 × 2\n\n| name &lt;chr&gt; | duplicate &lt;int&gt; |\n|---|---|\n| James   | 2 |\n| Jessica | 2 |\n| John    | 4 |\n| Mary    | 8 |\n| Michael | 4 |\n| Robert  | 2 |\n\n",
            "text/latex": "A grouped\\_df: 6 × 2\n\\begin{tabular}{ll}\n name & duplicate\\\\\n <chr> & <int>\\\\\n\\hline\n\t James   & 2\\\\\n\t Jessica & 2\\\\\n\t John    & 4\\\\\n\t Mary    & 8\\\\\n\t Michael & 4\\\\\n\t Robert  & 2\\\\\n\\end{tabular}\n",
            "text/plain": [
              "  name    duplicate\n",
              "1 James   2        \n",
              "2 Jessica 2        \n",
              "3 John    4        \n",
              "4 Mary    8        \n",
              "5 Michael 4        \n",
              "6 Robert  2        "
            ]
          },
          "metadata": {}
        }
      ],
      "source": [
        "# Your solution here\n",
        "a <- new_analyze\n",
        "a <- arrange(a, name)\n",
        "a <- group_by(a, name)\n",
        "newa <-\n",
        "    a %>%\n",
        "    group_by(name) %>% # the complete group of interest\n",
        "    mutate(duplicate = n()) %>% # count number in each group\n",
        "    filter(duplicate > 1) %>% # select only unique records\n",
        "    select(duplicate) # remove group count column\n",
        "distinct(newa, name, duplicate)"
      ]
    }
  ],
  "metadata": {
    "celltoolbar": "Create Assignment",
    "colab": {
      "provenance": [],
      "include_colab_link": true
    },
    "kernelspec": {
      "display_name": "R",
      "language": "R",
      "name": "ir"
    },
    "language_info": {
      "codemirror_mode": "r",
      "file_extension": ".r",
      "mimetype": "text/x-r-source",
      "name": "R",
      "pygments_lexer": "r",
      "version": "4.2.1"
    }
  },
  "nbformat": 4,
  "nbformat_minor": 0
}