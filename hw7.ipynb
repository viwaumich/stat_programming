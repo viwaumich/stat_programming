{
  "cells": [
    {
      "cell_type": "markdown",
      "metadata": {
        "id": "view-in-github",
        "colab_type": "text"
      },
      "source": [
        "<a href=\"https://colab.research.google.com/github/viwaumich/stat_programming/blob/main/hw7.ipynb\" target=\"_parent\"><img src=\"https://colab.research.google.com/assets/colab-badge.svg\" alt=\"Open In Colab\"/></a>"
      ]
    },
    {
      "cell_type": "code",
      "execution_count": null,
      "metadata": {
        "colab": {
          "base_uri": "https://localhost:8080/"
        },
        "deletable": false,
        "editable": false,
        "id": "1SPCENz_KDM-",
        "nbgrader": {
          "grade": false,
          "grade_id": "cell-d1761bfdb43c7ec3",
          "locked": true,
          "schema_version": 3,
          "solution": false
        },
        "outputId": "c7157a63-fd8a-470f-db27-42dff37d82eb",
        "vscode": {
          "languageId": "r"
        }
      },
      "outputs": [
        {
          "output_type": "stream",
          "name": "stderr",
          "text": [
            "Installing package into ‘/usr/local/lib/R/site-library’\n",
            "(as ‘lib’ is unspecified)\n",
            "\n",
            "also installing the dependencies ‘textshaping’, ‘ragg’\n",
            "\n",
            "\n",
            "Warning message in install.packages(\"tidyverse\"):\n",
            "“installation of package ‘textshaping’ had non-zero exit status”\n",
            "Warning message in install.packages(\"tidyverse\"):\n",
            "“installation of package ‘ragg’ had non-zero exit status”\n",
            "Warning message in install.packages(\"tidyverse\"):\n",
            "“installation of package ‘tidyverse’ had non-zero exit status”\n",
            "Skipping install of 'harrypotter' from a github remote, the SHA1 (51f71461) has not changed since last install.\n",
            "  Use `force = TRUE` to force installation\n",
            "\n",
            "Installing package into ‘/usr/local/lib/R/site-library’\n",
            "(as ‘lib’ is unspecified)\n",
            "\n"
          ]
        }
      ],
      "source": [
        "install.packages(\"tidyverse\")\n",
        "remotes::install_github(\"bradleyboehmke/harrypotter\")\n",
        "install.packages(\"tidytext\")\n",
        "library(tidyverse)\n",
        "library(stringr)\n",
        "options(jupyter.rich_display=T)\n",
        "library(harrypotter)\n",
        "library(tidytext)\n",
        "options(repr.plot.width=4, repr.plot.height=3)"
      ]
    },
    {
      "cell_type": "markdown",
      "metadata": {
        "deletable": false,
        "editable": false,
        "id": "i8VBJe1DLrKG",
        "run_control": {
          "frozen": true
        }
      },
      "source": [
        "# STATS 306\n",
        "## Homework 7: Text Analysis\n",
        "\n",
        "For each problem, enter the R code in the cell marked \"YOUR SOLUTION HERE\"."
      ]
    },
    {
      "cell_type": "markdown",
      "metadata": {
        "deletable": false,
        "editable": false,
        "id": "Yp7WT7I1KDNF",
        "nbgrader": {
          "grade": false,
          "grade_id": "cell-2be6421ceea97f78",
          "locked": true,
          "schema_version": 3,
          "solution": false,
          "task": false
        },
        "run_control": {
          "frozen": true
        }
      },
      "source": [
        "## Problem 1: Sentiment Analysis (4 points)\n",
        "\n",
        "In problem 1 we will perform *sentiment analysis* of the Harry Potter books. The file `afinn.RData` contains a sentiment score for a large number of words in the English language:"
      ]
    },
    {
      "cell_type": "code",
      "execution_count": null,
      "metadata": {
        "deletable": false,
        "editable": false,
        "id": "rVaiwyOLKDNE",
        "nbgrader": {
          "grade": false,
          "grade_id": "cell-a0b1b3db5aa2f68d",
          "locked": true,
          "schema_version": 3,
          "solution": false,
          "task": false
        },
        "vscode": {
          "languageId": "r"
        },
        "colab": {
          "base_uri": "https://localhost:8080/",
          "height": 286
        },
        "outputId": "cdf0568c-65b5-47aa-8281-93b0ef642e86"
      },
      "outputs": [
        {
          "output_type": "display_data",
          "data": {
            "text/html": [
              "<table class=\"dataframe\">\n",
              "<caption>A tibble: 6 × 2</caption>\n",
              "<thead>\n",
              "\t<tr><th scope=col>word</th><th scope=col>value</th></tr>\n",
              "\t<tr><th scope=col>&lt;chr&gt;</th><th scope=col>&lt;dbl&gt;</th></tr>\n",
              "</thead>\n",
              "<tbody>\n",
              "\t<tr><td>abandon   </td><td>-2</td></tr>\n",
              "\t<tr><td>abandoned </td><td>-2</td></tr>\n",
              "\t<tr><td>abandons  </td><td>-2</td></tr>\n",
              "\t<tr><td>abducted  </td><td>-2</td></tr>\n",
              "\t<tr><td>abduction </td><td>-2</td></tr>\n",
              "\t<tr><td>abductions</td><td>-2</td></tr>\n",
              "</tbody>\n",
              "</table>\n"
            ],
            "text/markdown": "\nA tibble: 6 × 2\n\n| word &lt;chr&gt; | value &lt;dbl&gt; |\n|---|---|\n| abandon    | -2 |\n| abandoned  | -2 |\n| abandons   | -2 |\n| abducted   | -2 |\n| abduction  | -2 |\n| abductions | -2 |\n\n",
            "text/latex": "A tibble: 6 × 2\n\\begin{tabular}{ll}\n word & value\\\\\n <chr> & <dbl>\\\\\n\\hline\n\t abandon    & -2\\\\\n\t abandoned  & -2\\\\\n\t abandons   & -2\\\\\n\t abducted   & -2\\\\\n\t abduction  & -2\\\\\n\t abductions & -2\\\\\n\\end{tabular}\n",
            "text/plain": [
              "  word       value\n",
              "1 abandon    -2   \n",
              "2 abandoned  -2   \n",
              "3 abandons   -2   \n",
              "4 abducted   -2   \n",
              "5 abduction  -2   \n",
              "6 abductions -2   "
            ]
          },
          "metadata": {}
        }
      ],
      "source": [
        "load(url(\"https://datasets.stats306.org/afinn.RData\"))\n",
        "head(afinn)"
      ]
    },
    {
      "cell_type": "markdown",
      "metadata": {
        "deletable": false,
        "editable": false,
        "id": "eQZaf91hKDNE",
        "nbgrader": {
          "grade": false,
          "grade_id": "cell-fd453d3925b1ec23",
          "locked": true,
          "schema_version": 3,
          "solution": false,
          "task": false
        },
        "run_control": {
          "frozen": true
        }
      },
      "source": [
        "Negatively connoted words receive low scores, while positively connoted words receive high scores:"
      ]
    },
    {
      "cell_type": "code",
      "execution_count": null,
      "metadata": {
        "deletable": false,
        "editable": false,
        "id": "GIRs7RepKDNF",
        "nbgrader": {
          "grade": false,
          "grade_id": "cell-727f2c40cd76f830",
          "locked": true,
          "schema_version": 3,
          "solution": false,
          "task": false
        },
        "vscode": {
          "languageId": "r"
        },
        "colab": {
          "base_uri": "https://localhost:8080/",
          "height": 178
        },
        "outputId": "5a457458-2012-432a-96fd-f5597bb379fe"
      },
      "outputs": [
        {
          "output_type": "display_data",
          "data": {
            "text/html": [
              "<table class=\"dataframe\">\n",
              "<caption>A spec_tbl_df: 2 × 2</caption>\n",
              "<thead>\n",
              "\t<tr><th scope=col>word</th><th scope=col>value</th></tr>\n",
              "\t<tr><th scope=col>&lt;chr&gt;</th><th scope=col>&lt;dbl&gt;</th></tr>\n",
              "</thead>\n",
              "<tbody>\n",
              "\t<tr><td>death </td><td>-2</td></tr>\n",
              "\t<tr><td>hurrah</td><td> 5</td></tr>\n",
              "</tbody>\n",
              "</table>\n"
            ],
            "text/markdown": "\nA spec_tbl_df: 2 × 2\n\n| word &lt;chr&gt; | value &lt;dbl&gt; |\n|---|---|\n| death  | -2 |\n| hurrah |  5 |\n\n",
            "text/latex": "A spec\\_tbl\\_df: 2 × 2\n\\begin{tabular}{ll}\n word & value\\\\\n <chr> & <dbl>\\\\\n\\hline\n\t death  & -2\\\\\n\t hurrah &  5\\\\\n\\end{tabular}\n",
            "text/plain": [
              "  word   value\n",
              "1 death  -2   \n",
              "2 hurrah  5   "
            ]
          },
          "metadata": {}
        }
      ],
      "source": [
        "filter(afinn, word %in% c(\"death\", \"hurrah\"))"
      ]
    },
    {
      "cell_type": "markdown",
      "metadata": {
        "deletable": false,
        "editable": false,
        "id": "bnxGYxYuN0Va",
        "run_control": {
          "frozen": true
        }
      },
      "source": [
        "The `tidytext::unnest_tokens()` function can be used to break a chunk of text into \"tokens\" (words, sentences, etc.) It works as follows. Consider the following tibble, which contains all 17 chapters of the first book in the Harry Potter series:"
      ]
    },
    {
      "cell_type": "code",
      "execution_count": null,
      "metadata": {
        "deletable": false,
        "editable": false,
        "id": "afSFdPizKDNG",
        "nbgrader": {
          "grade": false,
          "grade_id": "cell-5720923eadb15f71",
          "locked": true,
          "schema_version": 3,
          "solution": false,
          "task": false
        },
        "vscode": {
          "languageId": "r"
        },
        "colab": {
          "base_uri": "https://localhost:8080/"
        },
        "outputId": "87393d54-ccac-4a19-847a-75d015449b53"
      },
      "outputs": [
        {
          "output_type": "stream",
          "name": "stdout",
          "text": [
            "\u001b[90m# A tibble: 17 × 2\u001b[39m\n",
            "   chapter text                                                                 \n",
            "     \u001b[3m\u001b[90m<int>\u001b[39m\u001b[23m \u001b[3m\u001b[90m<chr>\u001b[39m\u001b[23m                                                                \n",
            "\u001b[90m 1\u001b[39m       1 \u001b[90m\"\u001b[39mTHE BOY WHO LIVED　　Mr. and Mrs. Dursley, of number four, Privet D…\n",
            "\u001b[90m 2\u001b[39m       2 \u001b[90m\"\u001b[39mTHE VANISHING GLASS　　Nearly ten years had passed since the Dursle…\n",
            "\u001b[90m 3\u001b[39m       3 \u001b[90m\"\u001b[39mTHE LETTERS FROM NO ONE　　The escape of the Brazilian boa constric…\n",
            "\u001b[90m 4\u001b[39m       4 \u001b[90m\"\u001b[39mTHE KEEPER OF THE KEYS　　BOOM. They knocked again. Dudley jerked a…\n",
            "\u001b[90m 5\u001b[39m       5 \u001b[90m\"\u001b[39mDIAGON ALLEY　　Harry woke early the next morning. Although he coul…\n",
            "\u001b[90m 6\u001b[39m       6 \u001b[90m\"\u001b[39mTHE JOURNEY FROM PLATFORM NINE AND THREE-QUARTERS　　Harry's last m…\n",
            "\u001b[90m 7\u001b[39m       7 \u001b[90m\"\u001b[39mTHE SORTING HAT　　The door swung open at once. A tall, black-haire…\n",
            "\u001b[90m 8\u001b[39m       8 \u001b[90m\"\u001b[39mTHE POTIONS MASTER　　There, look.\\\"　　\\\"Where?\\\"　　\\\"Next to the…\n",
            "\u001b[90m 9\u001b[39m       9 \u001b[90m\"\u001b[39mTHE MIDNIGHT DUEL　　Harry had never believed he would meet a boy h…\n",
            "\u001b[90m10\u001b[39m      10 \u001b[90m\"\u001b[39mHALLOWEEN　　Malfoy couldn't believe his eyes when he saw that Harr…\n",
            "\u001b[90m11\u001b[39m      11 \u001b[90m\"\u001b[39mQUIDDITCH　　As they entered November, the weather turned very cold…\n",
            "\u001b[90m12\u001b[39m      12 \u001b[90m\"\u001b[39mTHE MIRROR OF ERISED　　Christmas was coming. One morning in mid-De…\n",
            "\u001b[90m13\u001b[39m      13 \u001b[90m\"\u001b[39mNICOLAS FLAMEL　　Dumbledore had convinced Harry not to go looking …\n",
            "\u001b[90m14\u001b[39m      14 \u001b[90m\"\u001b[39mNORBERT THE NORWEGIAN RIDGEBACK　　Quirrell, however, must have bee…\n",
            "\u001b[90m15\u001b[39m      15 \u001b[90m\"\u001b[39mTHE FORIBIDDEN FOREST　　Things couldn't have been worse.　　Filch …\n",
            "\u001b[90m16\u001b[39m      16 \u001b[90m\"\u001b[39mTHROUGH THE TRAPDOOR　　In years to come, Harry would never quite r…\n",
            "\u001b[90m17\u001b[39m      17 \u001b[90m\"\u001b[39mTHE MAN WITH TWO FACES　　It was Quirrell.　　\\\"You!\\\" gasped Harry…\n"
          ]
        }
      ],
      "source": [
        "phil_tbl <- tibble(chapter=seq_along(philosophers_stone),\n",
        "                   text=philosophers_stone) %>% print"
      ]
    },
    {
      "cell_type": "markdown",
      "metadata": {
        "deletable": false,
        "editable": false,
        "id": "dF5BEX6KKDNG",
        "nbgrader": {
          "grade": false,
          "grade_id": "cell-6458005323726b6c",
          "locked": true,
          "schema_version": 3,
          "solution": false,
          "task": false
        },
        "run_control": {
          "frozen": true
        }
      },
      "source": [
        "To perform sentiment analysis, we need to break each chapter into words so that we can join it to the `afinn` table. This is what `unnest_tokens()` does:"
      ]
    },
    {
      "cell_type": "code",
      "execution_count": null,
      "metadata": {
        "deletable": false,
        "editable": false,
        "id": "k5JwDuDhKDNH",
        "nbgrader": {
          "grade": false,
          "grade_id": "cell-d9a1412ce1c67af4",
          "locked": true,
          "schema_version": 3,
          "solution": false,
          "task": false
        },
        "vscode": {
          "languageId": "r"
        },
        "colab": {
          "base_uri": "https://localhost:8080/"
        },
        "outputId": "936528d1-2aa4-4831-88ef-e7fdbfca2e85"
      },
      "outputs": [
        {
          "output_type": "stream",
          "name": "stdout",
          "text": [
            "\u001b[90m# A tibble: 77,875 × 2\u001b[39m\n",
            "   chapter word   \n",
            "     \u001b[3m\u001b[90m<int>\u001b[39m\u001b[23m \u001b[3m\u001b[90m<chr>\u001b[39m\u001b[23m  \n",
            "\u001b[90m 1\u001b[39m       1 the    \n",
            "\u001b[90m 2\u001b[39m       1 boy    \n",
            "\u001b[90m 3\u001b[39m       1 who    \n",
            "\u001b[90m 4\u001b[39m       1 lived  \n",
            "\u001b[90m 5\u001b[39m       1 mr     \n",
            "\u001b[90m 6\u001b[39m       1 and    \n",
            "\u001b[90m 7\u001b[39m       1 mrs    \n",
            "\u001b[90m 8\u001b[39m       1 dursley\n",
            "\u001b[90m 9\u001b[39m       1 of     \n",
            "\u001b[90m10\u001b[39m       1 number \n",
            "\u001b[90m# … with 77,865 more rows\u001b[39m\n"
          ]
        }
      ],
      "source": [
        "phil_tok <- unnest_tokens(phil_tbl, input=text, output=word) %>% print"
      ]
    },
    {
      "cell_type": "markdown",
      "metadata": {
        "deletable": false,
        "editable": false,
        "id": "kPM1RnIKKDNH",
        "nbgrader": {
          "grade": false,
          "grade_id": "cell-f434554a9cb77230",
          "locked": true,
          "schema_version": 3,
          "solution": false,
          "task": false
        },
        "run_control": {
          "frozen": true
        }
      },
      "source": [
        "**1(a)** By joining this table to other tables containing text data and summarizing, we can generate scores of how positive or negative the text is. Using the table and `afinn`, we can assign sentiment scores to various portions of text. Generate a plot reflecting how the sentiment changes over 17 chapters of the first book in the Harry Potter series. What conclusion can you draw from the plot? (1 point)"
      ]
    },
    {
      "cell_type": "code",
      "execution_count": null,
      "metadata": {
        "id": "MnG3nbbBY8ps",
        "vscode": {
          "languageId": "r"
        }
      },
      "outputs": [],
      "source": [
        "### YOUR SOLUTION HERE\n",
        "senti_phil <- phil_tok %>%\n",
        "  left_join(afinn, by = join_by(word)) %>%\n",
        "  filter(!is.na(value)) %>%\n",
        "  group_by(chapter) %>%\n",
        "  summarize(mean_sentiment = mean(value))\n",
        "\n",
        "senti_phil$chapter <- as.factor(senti_phil$chapter)"
      ]
    },
    {
      "cell_type": "code",
      "source": [
        "senti_phil %>%\n",
        "  ggplot(aes(x=chapter, y=mean_sentiment, fill = mean_sentiment)) +\n",
        "    geom_bar(stat='identity', position='dodge') +\n",
        "    xlab(\"Chapter\") + ylab(\"Average Sentiment\") + labs(title = \"Sentiment in Philosopher's Stone\")"
      ],
      "metadata": {
        "id": "sFfCejB3vMWg",
        "colab": {
          "base_uri": "https://localhost:8080/",
          "height": 197
        },
        "outputId": "9f5aa844-8ac8-4285-b25b-7fbbfab63e1d"
      },
      "execution_count": null,
      "outputs": [
        {
          "output_type": "display_data",
          "data": {
            "text/plain": [
              "plot without title"
            ],
            "image/png": "[encoded data removed]"
          },
          "metadata": {
            "image/png": {
              "width": 240,
              "height": 180
            }
          }
        }
      ]
    },
    {
      "cell_type": "markdown",
      "source": [
        "**Overall, there is no clear progression in sentiment over the course of the book. Most of the Philosopher's Stone is relatively positive, except for Chapters 2-4. Only Chapter 15 is significantly negative.**"
      ],
      "metadata": {
        "id": "lcx3QH-_20rw"
      }
    },
    {
      "cell_type": "markdown",
      "metadata": {
        "deletable": false,
        "editable": false,
        "id": "-YSgb5cqKDNH",
        "nbgrader": {
          "grade": false,
          "grade_id": "cell-764bdd8bbd4ec469",
          "locked": true,
          "schema_version": 3,
          "solution": false,
          "task": false
        },
        "run_control": {
          "frozen": true
        }
      },
      "source": [
        "**1(b)**\n",
        "Some people say that the Harry Potter books became darker (more negative) over time. Use sentiment analysis to investigate this, and report your conclusion here. (1 point)\n",
        "\n",
        "**HINT**: A list of all the Harry Potter books can be obtained by looking at the help page for the `harrypotter` package."
      ]
    },
    {
      "cell_type": "code",
      "execution_count": null,
      "metadata": {
        "id": "dHoAejNaKDNH",
        "nbgrader": {
          "grade": true,
          "grade_id": "cell-456e0f9282dcf3e0",
          "locked": false,
          "points": 0,
          "schema_version": 3,
          "solution": true,
          "task": false
        },
        "vscode": {
          "languageId": "r"
        }
      },
      "outputs": [],
      "source": [
        "### YOUR SOLUTION HERE\n",
        "phil_stone <- tibble(chapter = seq_along(philosophers_stone),\n",
        "                    text = philosophers_stone)\n",
        "phil_stone <- unnest_tokens(phil_stone, word, text)\n",
        "phil_stone <- phil_stone %>%\n",
        "  mutate(book = \"philosophers_stone\") %>%\n",
        "  group_by(book) %>%\n",
        "  left_join(afinn, by = join_by(word)) %>%\n",
        "  filter(!is.na(value)) %>%\n",
        "  summarize(mean_sentiment = mean(value))\n",
        "\n",
        "chamb_sec <- tibble(chapter = seq_along(chamber_of_secrets),\n",
        "                    text = chamber_of_secrets)\n",
        "chamb_sec <- unnest_tokens(chamb_sec, word, text)\n",
        "chamb_sec <- chamb_sec %>%\n",
        "  mutate(book = \"chamber_of_secrets\") %>%\n",
        "  group_by(book) %>%\n",
        "  left_join(afinn, by = join_by(word)) %>%\n",
        "  filter(!is.na(value)) %>%\n",
        "  summarize(mean_sentiment = mean(value))\n",
        "\n",
        "pris_azk <- tibble(chapter = seq_along(prisoner_of_azkaban),\n",
        "                    text = prisoner_of_azkaban)\n",
        "pris_azk <- unnest_tokens(pris_azk, word, text)\n",
        "pris_azk <- pris_azk %>%\n",
        "  mutate(book = \"prisoner_of_azkaban\") %>%\n",
        "  group_by(book) %>%\n",
        "  left_join(afinn, by = join_by(word)) %>%\n",
        "  filter(!is.na(value)) %>%\n",
        "  summarize(mean_sentiment = mean(value))\n",
        "\n",
        "gob_fire <- tibble(chapter = seq_along(goblet_of_fire),\n",
        "                    text = goblet_of_fire)\n",
        "gob_fire <- unnest_tokens(gob_fire, word, text)\n",
        "gob_fire <- gob_fire %>%\n",
        "  mutate(book = \"goblet_of_fire\") %>%\n",
        "  group_by(book) %>%\n",
        "  left_join(afinn, by = join_by(word)) %>%\n",
        "  filter(!is.na(value)) %>%\n",
        "  summarize(mean_sentiment = mean(value))\n",
        "\n",
        "ord_phoe <- tibble(chapter = seq_along(order_of_the_phoenix),\n",
        "                    text = order_of_the_phoenix)\n",
        "ord_phoe <- unnest_tokens(ord_phoe, word, text)\n",
        "ord_phoe <- ord_phoe %>%\n",
        "  mutate(book = \"order_of_the_phoenix\") %>%\n",
        "  group_by(book) %>%\n",
        "  left_join(afinn, by = join_by(word)) %>%\n",
        "  filter(!is.na(value)) %>%\n",
        "  summarize(mean_sentiment = mean(value))\n",
        "\n",
        "half_prnc <- tibble(chapter = seq_along(half_blood_prince),\n",
        "                    text = half_blood_prince)\n",
        "half_prnc <- unnest_tokens(half_prnc, word, text)\n",
        "half_prnc <- half_prnc %>%\n",
        "  mutate(book = \"half_blood_prince\") %>%\n",
        "  group_by(book) %>%\n",
        "  left_join(afinn, by = join_by(word)) %>%\n",
        "  filter(!is.na(value)) %>%\n",
        "  summarize(mean_sentiment = mean(value))\n",
        "\n",
        "dth_hal <- tibble(chapter = seq_along(deathly_hallows),\n",
        "                    text = deathly_hallows)\n",
        "dth_hal <- unnest_tokens(dth_hal, word, text)\n",
        "dth_hal <- dth_hal %>%\n",
        "  mutate(book = \"deathly_hallows\") %>%\n",
        "  group_by(book) %>%\n",
        "  left_join(afinn, by = join_by(word)) %>%\n",
        "  filter(!is.na(value)) %>%\n",
        "  summarize(mean_sentiment = mean(value))"
      ]
    },
    {
      "cell_type": "code",
      "source": [
        "all <- rbind(phil_stone, chamb_sec, pris_azk, gob_fire, ord_phoe, half_prnc, dth_hal)\n",
        "all$book <- factor(all$book, levels=c('deathly_hallows',\n",
        "                                'half_blood_prince',\n",
        "                                'order_of_the_phoenix',\n",
        "                                'goblet_of_fire',\n",
        "                                'prisoner_of_azkaban',\n",
        "                                'chamber_of_secrets',\n",
        "                                'philosophers_stone'))\n",
        "all %>%\n",
        "  ggplot(aes(book, mean_sentiment, fill = mean_sentiment)) +\n",
        "    geom_col() +\n",
        "    coord_flip() +\n",
        "    xlab(\"Book\") + ylab(\"Average Sentiment\") + labs(title = \"Harry Potter Sentiment\")\n"
      ],
      "metadata": {
        "id": "JPg4SNVxQtsp",
        "colab": {
          "base_uri": "https://localhost:8080/",
          "height": 197
        },
        "outputId": "eea7fdea-a4d6-45ef-91d6-c5d8ee2d72ab"
      },
      "execution_count": null,
      "outputs": [
        {
          "output_type": "display_data",
          "data": {
            "text/plain": [
              "plot without title"
            ],
            "image/png": "[encoded data removed]"
          },
          "metadata": {
            "image/png": {
              "width": 240,
              "height": 180
            }
          }
        }
      ]
    },
    {
      "cell_type": "markdown",
      "source": [
        "**There does not seem to be a clear downward trend in sentiment over the progression of the series. However, Deathly Hallows is clearly the most negative, and Philosopher's Stone was more optimistic overall.**"
      ],
      "metadata": {
        "id": "nEm3eH5_E8Kt"
      }
    },
    {
      "cell_type": "markdown",
      "metadata": {
        "deletable": false,
        "editable": false,
        "id": "0mC9u3CgKDNI",
        "nbgrader": {
          "grade": false,
          "grade_id": "cell-0b846c7349b1ca76",
          "locked": true,
          "schema_version": 3,
          "solution": false,
          "task": false
        },
        "run_control": {
          "frozen": true
        }
      },
      "source": [
        "**1(c)** According to the sentiment scores, what are the most negative and positive chapters in any of the Harry Potter books? (1 point)"
      ]
    },
    {
      "cell_type": "code",
      "execution_count": null,
      "metadata": {
        "id": "layiSLfxhQFv",
        "vscode": {
          "languageId": "r"
        },
        "colab": {
          "base_uri": "https://localhost:8080/",
          "height": 242
        },
        "outputId": "c8dd5f1a-f1d0-4be6-826d-4b9e92941168"
      },
      "outputs": [
        {
          "output_type": "display_data",
          "data": {
            "text/html": [
              "<table class=\"dataframe\">\n",
              "<caption>A grouped_df: 1 × 3</caption>\n",
              "<thead>\n",
              "\t<tr><th scope=col>book</th><th scope=col>chapter</th><th scope=col>mean_sentiment</th></tr>\n",
              "\t<tr><th scope=col>&lt;chr&gt;</th><th scope=col>&lt;int&gt;</th><th scope=col>&lt;dbl&gt;</th></tr>\n",
              "</thead>\n",
              "<tbody>\n",
              "\t<tr><td>half_blood_prince</td><td>28</td><td>-1.142857</td></tr>\n",
              "</tbody>\n",
              "</table>\n"
            ],
            "text/markdown": "\nA grouped_df: 1 × 3\n\n| book &lt;chr&gt; | chapter &lt;int&gt; | mean_sentiment &lt;dbl&gt; |\n|---|---|---|\n| half_blood_prince | 28 | -1.142857 |\n\n",
            "text/latex": "A grouped\\_df: 1 × 3\n\\begin{tabular}{lll}\n book & chapter & mean\\_sentiment\\\\\n <chr> & <int> & <dbl>\\\\\n\\hline\n\t half\\_blood\\_prince & 28 & -1.142857\\\\\n\\end{tabular}\n",
            "text/plain": [
              "  book              chapter mean_sentiment\n",
              "1 half_blood_prince 28      -1.142857     "
            ]
          },
          "metadata": {}
        },
        {
          "output_type": "display_data",
          "data": {
            "text/html": [
              "<table class=\"dataframe\">\n",
              "<caption>A grouped_df: 1 × 3</caption>\n",
              "<thead>\n",
              "\t<tr><th scope=col>book</th><th scope=col>chapter</th><th scope=col>mean_sentiment</th></tr>\n",
              "\t<tr><th scope=col>&lt;chr&gt;</th><th scope=col>&lt;int&gt;</th><th scope=col>&lt;dbl&gt;</th></tr>\n",
              "</thead>\n",
              "<tbody>\n",
              "\t<tr><td>half_blood_prince</td><td>9</td><td>0.6862745</td></tr>\n",
              "</tbody>\n",
              "</table>\n"
            ],
            "text/markdown": "\nA grouped_df: 1 × 3\n\n| book &lt;chr&gt; | chapter &lt;int&gt; | mean_sentiment &lt;dbl&gt; |\n|---|---|---|\n| half_blood_prince | 9 | 0.6862745 |\n\n",
            "text/latex": "A grouped\\_df: 1 × 3\n\\begin{tabular}{lll}\n book & chapter & mean\\_sentiment\\\\\n <chr> & <int> & <dbl>\\\\\n\\hline\n\t half\\_blood\\_prince & 9 & 0.6862745\\\\\n\\end{tabular}\n",
            "text/plain": [
              "  book              chapter mean_sentiment\n",
              "1 half_blood_prince 9       0.6862745     "
            ]
          },
          "metadata": {}
        }
      ],
      "source": [
        "### YOUR SOLUTION HERE\n",
        "phil_stone <- tibble(chapter = seq_along(philosophers_stone),\n",
        "                    text = philosophers_stone)\n",
        "phil_stone <- unnest_tokens(phil_stone, word, text)\n",
        "phil_stone <- phil_stone %>%\n",
        "  mutate(book = \"philosophers_stone\") %>%\n",
        "  group_by(chapter) %>%\n",
        "  left_join(afinn, by = join_by(word)) %>%\n",
        "  filter(!is.na(value)) %>%\n",
        "  mutate(mean_sentiment = mean(value))\n",
        "\n",
        "chamb_sec <- tibble(chapter = seq_along(chamber_of_secrets),\n",
        "                    text = chamber_of_secrets)\n",
        "chamb_sec <- unnest_tokens(chamb_sec, word, text)\n",
        "chamb_sec <- chamb_sec %>%\n",
        "  mutate(book = \"chamber_of_secrets\") %>%\n",
        "  group_by(chapter) %>%\n",
        "  left_join(afinn, by = join_by(word)) %>%\n",
        "  filter(!is.na(value)) %>%\n",
        "  mutate(mean_sentiment = mean(value))\n",
        "\n",
        "pris_azk <- tibble(chapter = seq_along(prisoner_of_azkaban),\n",
        "                    text = prisoner_of_azkaban)\n",
        "pris_azk <- unnest_tokens(pris_azk, word, text)\n",
        "pris_azk <- pris_azk %>%\n",
        "  mutate(book = \"prisoner_of_azkaban\") %>%\n",
        "  group_by(chapter) %>%\n",
        "  left_join(afinn, by = join_by(word)) %>%\n",
        "  filter(!is.na(value)) %>%\n",
        "  mutate(mean_sentiment = mean(value))\n",
        "\n",
        "gob_fire <- tibble(chapter = seq_along(goblet_of_fire),\n",
        "                    text = goblet_of_fire)\n",
        "gob_fire <- unnest_tokens(gob_fire, word, text)\n",
        "gob_fire <- gob_fire %>%\n",
        "  mutate(book = \"goblet_of_fire\") %>%\n",
        "  group_by(chapter) %>%\n",
        "  left_join(afinn, by = join_by(word)) %>%\n",
        "  filter(!is.na(value)) %>%\n",
        "  mutate(mean_sentiment = mean(value))\n",
        "\n",
        "ord_phoe <- tibble(chapter = seq_along(order_of_the_phoenix),\n",
        "                    text = order_of_the_phoenix)\n",
        "ord_phoe <- unnest_tokens(ord_phoe, word, text)\n",
        "ord_phoe <- ord_phoe %>%\n",
        "  mutate(book = \"order_of_the_phoenix\") %>%\n",
        "  group_by(chapter) %>%\n",
        "  left_join(afinn, by = join_by(word)) %>%\n",
        "  filter(!is.na(value)) %>%\n",
        "  mutate(mean_sentiment = mean(value))\n",
        "\n",
        "half_prnc <- tibble(chapter = seq_along(half_blood_prince),\n",
        "                    text = half_blood_prince)\n",
        "half_prnc <- unnest_tokens(half_prnc, word, text)\n",
        "half_prnc <- half_prnc %>%\n",
        "  mutate(book = \"half_blood_prince\") %>%\n",
        "  group_by(chapter) %>%\n",
        "  left_join(afinn, by = join_by(word)) %>%\n",
        "  filter(!is.na(value)) %>%\n",
        "  mutate(mean_sentiment = mean(value))\n",
        "\n",
        "dth_hal <- tibble(chapter = seq_along(deathly_hallows),\n",
        "                    text = deathly_hallows)\n",
        "dth_hal <- unnest_tokens(dth_hal, word, text)\n",
        "dth_hal <- dth_hal %>%\n",
        "  mutate(book = \"deathly_hallows\") %>%\n",
        "  group_by(chapter) %>%\n",
        "  left_join(afinn, by = join_by(word)) %>%\n",
        "  filter(!is.na(value)) %>%\n",
        "  mutate(mean_sentiment = mean(value))\n",
        "\n",
        "\n",
        "all_chapters <- rbind(phil_stone, chamb_sec, pris_azk, gob_fire, ord_phoe, half_prnc, dth_hal)\n",
        "all_chapters %>%\n",
        "  select(book, chapter, mean_sentiment) %>%\n",
        "  arrange(mean_sentiment) %>%\n",
        "  head(1)\n",
        "all_chapters %>%\n",
        "  select(book, chapter, mean_sentiment) %>%\n",
        "  arrange(mean_sentiment) %>%\n",
        "  tail(1)"
      ]
    },
    {
      "cell_type": "markdown",
      "source": [
        "**Most Negative Chapter in any HP Book:** Half Blood Prince, Ch. 28\n",
        "\n",
        "---\n",
        "**Most Positive Chapter in any HP Book:** Half Blood Prince, Ch. 9\n"
      ],
      "metadata": {
        "id": "wXheUf2YVcaI"
      }
    },
    {
      "cell_type": "markdown",
      "metadata": {
        "deletable": false,
        "editable": false,
        "id": "aqZmeQx9hHVl",
        "run_control": {
          "frozen": true
        }
      },
      "source": [
        "**1(d)** Of the sentences that contain three or more scored words, what is the happiest (most positive)? (1 points)"
      ]
    },
    {
      "cell_type": "code",
      "source": [
        "harryp <- rbind(philosophers_stone,\n",
        "                chamber_of_secrets,\n",
        "                prisoner_of_azkaban,\n",
        "                goblet_of_fire,\n",
        "                order_of_the_phoenix,\n",
        "                half_blood_prince,\n",
        "                deathly_hallows) %>%\n",
        "          str_replace_all(regex(\"Prof.|Mrs.|Mr.|Ms.\"), \"msc_ttl\")\n",
        "\n",
        "harryp <- tibble(text = harryp) %>%\n",
        "  mutate(text = str_replace_all(text, \"\\\\n\", \"\")) %>%\n",
        "  unnest_tokens(output = text, input = text, token = \"sentences\", drop = F, to_lower = F) %>%\n",
        "    mutate(sentence_id = seq_along(text))\n",
        "\n",
        "hp_words <- harryp %>%\n",
        "  unnest_tokens(word, text)\n",
        "\n",
        "harryp <- harryp %>%\n",
        "  left_join(hp_words, join_by(sentence_id)) %>%\n",
        "  left_join(afinn, join_by(word)) %>%\n",
        "  filter(!is.na(value)) %>%\n",
        "  group_by(text) %>%\n",
        "  mutate(mean_sent = mean(value))\n",
        "\n",
        "counts <- harryp %>%\n",
        "  count(sentence_id)\n",
        "\n",
        "harryp %>%\n",
        "  left_join(counts, join_by(sentence_id, text)) %>%\n",
        "  filter(n >= 3) %>%\n",
        "  arrange(desc(mean_sent)) %>%\n",
        "  head()"
      ],
      "metadata": {
        "colab": {
          "base_uri": "https://localhost:8080/",
          "height": 408
        },
        "id": "zI-EcApa0tah",
        "outputId": "77538af6-01c8-445b-eeef-75896b69a1c9"
      },
      "execution_count": null,
      "outputs": [
        {
          "output_type": "stream",
          "name": "stderr",
          "text": [
            "Warning message in rbind(philosophers_stone, chamber_of_secrets, prisoner_of_azkaban, :\n",
            "“number of columns of result is not a multiple of vector length (arg 1)”\n",
            "Warning message in left_join(., hp_words, join_by(sentence_id)):\n",
            "“\u001b[1m\u001b[22mEach row in `x` is expected to match at most 1 row in `y`.\n",
            "\u001b[36mℹ\u001b[39m Row 1 of `x` matches multiple rows.\n",
            "\u001b[36mℹ\u001b[39m If multiple matches are expected, set `multiple = \"all\"` to silence this\n",
            "  warning.”\n"
          ]
        },
        {
          "output_type": "display_data",
          "data": {
            "text/html": [
              "<table class=\"dataframe\">\n",
              "<caption>A grouped_df: 6 × 6</caption>\n",
              "<thead>\n",
              "\t<tr><th scope=col>text</th><th scope=col>sentence_id</th><th scope=col>word</th><th scope=col>value</th><th scope=col>mean_sent</th><th scope=col>n</th></tr>\n",
              "\t<tr><th scope=col>&lt;chr&gt;</th><th scope=col>&lt;int&gt;</th><th scope=col>&lt;chr&gt;</th><th scope=col>&lt;dbl&gt;</th><th scope=col>&lt;dbl&gt;</th><th scope=col>&lt;int&gt;</th></tr>\n",
              "</thead>\n",
              "<tbody>\n",
              "\t<tr><td>Maniacal laughter was ringing in his ears . . . he was happier than he had been in a very long time . . . jubilant, ecstatic, triumphant . . . a wonderful, wonderful thing had happened . . .</td><td>64711</td><td>jubilant  </td><td>3</td><td>3.800000</td><td>5</td></tr>\n",
              "\t<tr><td>Maniacal laughter was ringing in his ears . . . he was happier than he had been in a very long time . . . jubilant, ecstatic, triumphant . . . a wonderful, wonderful thing had happened . . .</td><td>64711</td><td>ecstatic  </td><td>4</td><td>3.800000</td><td>5</td></tr>\n",
              "\t<tr><td>Maniacal laughter was ringing in his ears . . . he was happier than he had been in a very long time . . . jubilant, ecstatic, triumphant . . . a wonderful, wonderful thing had happened . . .</td><td>64711</td><td>triumphant</td><td>4</td><td>3.800000</td><td>5</td></tr>\n",
              "\t<tr><td>Maniacal laughter was ringing in his ears . . . he was happier than he had been in a very long time . . . jubilant, ecstatic, triumphant . . . a wonderful, wonderful thing had happened . . .</td><td>64711</td><td>wonderful </td><td>4</td><td>3.800000</td><td>5</td></tr>\n",
              "\t<tr><td>Maniacal laughter was ringing in his ears . . . he was happier than he had been in a very long time . . . jubilant, ecstatic, triumphant . . . a wonderful, wonderful thing had happened . . .</td><td>64711</td><td>wonderful </td><td>4</td><td>3.800000</td><td>5</td></tr>\n",
              "\t<tr><td>'But Ginny was best, she got Malfoy - Bat Bogey Hex - it was superb, his whole face was covered in the great flapping things.                                                                 </td><td>89946</td><td>best      </td><td>3</td><td>3.666667</td><td>3</td></tr>\n",
              "</tbody>\n",
              "</table>\n"
            ],
            "text/markdown": "\nA grouped_df: 6 × 6\n\n| text &lt;chr&gt; | sentence_id &lt;int&gt; | word &lt;chr&gt; | value &lt;dbl&gt; | mean_sent &lt;dbl&gt; | n &lt;int&gt; |\n|---|---|---|---|---|---|\n| Maniacal laughter was ringing in his ears . . . he was happier than he had been in a very long time . . . jubilant, ecstatic, triumphant . . . a wonderful, wonderful thing had happened . . . | 64711 | jubilant   | 3 | 3.800000 | 5 |\n| Maniacal laughter was ringing in his ears . . . he was happier than he had been in a very long time . . . jubilant, ecstatic, triumphant . . . a wonderful, wonderful thing had happened . . . | 64711 | ecstatic   | 4 | 3.800000 | 5 |\n| Maniacal laughter was ringing in his ears . . . he was happier than he had been in a very long time . . . jubilant, ecstatic, triumphant . . . a wonderful, wonderful thing had happened . . . | 64711 | triumphant | 4 | 3.800000 | 5 |\n| Maniacal laughter was ringing in his ears . . . he was happier than he had been in a very long time . . . jubilant, ecstatic, triumphant . . . a wonderful, wonderful thing had happened . . . | 64711 | wonderful  | 4 | 3.800000 | 5 |\n| Maniacal laughter was ringing in his ears . . . he was happier than he had been in a very long time . . . jubilant, ecstatic, triumphant . . . a wonderful, wonderful thing had happened . . . | 64711 | wonderful  | 4 | 3.800000 | 5 |\n| 'But Ginny was best, she got Malfoy - Bat Bogey Hex - it was superb, his whole face was covered in the great flapping things.                                                                  | 89946 | best       | 3 | 3.666667 | 3 |\n\n",
            "text/latex": "A grouped\\_df: 6 × 6\n\\begin{tabular}{llllll}\n text & sentence\\_id & word & value & mean\\_sent & n\\\\\n <chr> & <int> & <chr> & <dbl> & <dbl> & <int>\\\\\n\\hline\n\t Maniacal laughter was ringing in his ears . . . he was happier than he had been in a very long time . . . jubilant, ecstatic, triumphant . . . a wonderful, wonderful thing had happened . . . & 64711 & jubilant   & 3 & 3.800000 & 5\\\\\n\t Maniacal laughter was ringing in his ears . . . he was happier than he had been in a very long time . . . jubilant, ecstatic, triumphant . . . a wonderful, wonderful thing had happened . . . & 64711 & ecstatic   & 4 & 3.800000 & 5\\\\\n\t Maniacal laughter was ringing in his ears . . . he was happier than he had been in a very long time . . . jubilant, ecstatic, triumphant . . . a wonderful, wonderful thing had happened . . . & 64711 & triumphant & 4 & 3.800000 & 5\\\\\n\t Maniacal laughter was ringing in his ears . . . he was happier than he had been in a very long time . . . jubilant, ecstatic, triumphant . . . a wonderful, wonderful thing had happened . . . & 64711 & wonderful  & 4 & 3.800000 & 5\\\\\n\t Maniacal laughter was ringing in his ears . . . he was happier than he had been in a very long time . . . jubilant, ecstatic, triumphant . . . a wonderful, wonderful thing had happened . . . & 64711 & wonderful  & 4 & 3.800000 & 5\\\\\n\t 'But Ginny was best, she got Malfoy - Bat Bogey Hex - it was superb, his whole face was covered in the great flapping things.                                                                  & 89946 & best       & 3 & 3.666667 & 3\\\\\n\\end{tabular}\n",
            "text/plain": [
              "  text                                                                                                                                                                                          \n",
              "1 Maniacal laughter was ringing in his ears . . . he was happier than he had been in a very long time . . . jubilant, ecstatic, triumphant . . . a wonderful, wonderful thing had happened . . .\n",
              "2 Maniacal laughter was ringing in his ears . . . he was happier than he had been in a very long time . . . jubilant, ecstatic, triumphant . . . a wonderful, wonderful thing had happened . . .\n",
              "3 Maniacal laughter was ringing in his ears . . . he was happier than he had been in a very long time . . . jubilant, ecstatic, triumphant . . . a wonderful, wonderful thing had happened . . .\n",
              "4 Maniacal laughter was ringing in his ears . . . he was happier than he had been in a very long time . . . jubilant, ecstatic, triumphant . . . a wonderful, wonderful thing had happened . . .\n",
              "5 Maniacal laughter was ringing in his ears . . . he was happier than he had been in a very long time . . . jubilant, ecstatic, triumphant . . . a wonderful, wonderful thing had happened . . .\n",
              "6 'But Ginny was best, she got Malfoy - Bat Bogey Hex - it was superb, his whole face was covered in the great flapping things.                                                                 \n",
              "  sentence_id word       value mean_sent n\n",
              "1 64711       jubilant   3     3.800000  5\n",
              "2 64711       ecstatic   4     3.800000  5\n",
              "3 64711       triumphant 4     3.800000  5\n",
              "4 64711       wonderful  4     3.800000  5\n",
              "5 64711       wonderful  4     3.800000  5\n",
              "6 89946       best       3     3.666667  3"
            ]
          },
          "metadata": {}
        }
      ]
    },
    {
      "cell_type": "markdown",
      "source": [
        "**\"Maniacal laughter was ringing in his ears . . . he was happier than he had been in a very long time . . . jubilant, ecstatic, triumphant . . . a wonderful, wonderful thing had happened . . .\t\" This sentence has an average sentence sentiment of 3.8 and contains 5 words that were indexed in the \"afinn\" dataset.**"
      ],
      "metadata": {
        "id": "pgMEpwUIKdbD"
      }
    },
    {
      "cell_type": "markdown",
      "metadata": {
        "deletable": false,
        "editable": false,
        "id": "XnnFosC3KDNJ",
        "nbgrader": {
          "grade": false,
          "grade_id": "cell-718c986a9bef0aca",
          "locked": true,
          "schema_version": 3,
          "solution": false
        },
        "run_control": {
          "frozen": true
        }
      },
      "source": [
        "## Problem 2: Reddit dataset (4 points)\n",
        "The file `reddit_xmas_2017.RData` contains 100,000 comments posted to Reddit on Christmas Day, 2017. Unless specified otherwise, all matches are case insensitive."
      ]
    },
    {
      "cell_type": "code",
      "execution_count": null,
      "metadata": {
        "id": "4v6vwcp0KDNJ",
        "nbgrader": {
          "grade": false,
          "grade_id": "cell-1fa7cd0e5989af42",
          "locked": true,
          "schema_version": 3,
          "solution": false
        },
        "vscode": {
          "languageId": "r"
        },
        "colab": {
          "base_uri": "https://localhost:8080/"
        },
        "outputId": "54d182c3-35f0-459a-8e9a-2ae42ec7d7a8"
      },
      "outputs": [
        {
          "output_type": "stream",
          "name": "stdout",
          "text": [
            "\u001b[90m# A tibble: 100,000 × 3\u001b[39m\n",
            "   author              body                                  created_utc        \n",
            "   \u001b[3m\u001b[90m<chr>\u001b[39m\u001b[23m               \u001b[3m\u001b[90m<chr>\u001b[39m\u001b[23m                                 \u001b[3m\u001b[90m<dttm>\u001b[39m\u001b[23m             \n",
            "\u001b[90m 1\u001b[39m br_shadow           \u001b[90m\"\u001b[39mThank you for this, there is a pers… 2017-12-25 \u001b[90m15:49:08\u001b[39m\n",
            "\u001b[90m 2\u001b[39m Ksalol              \u001b[90m\"\u001b[39mThey are not to quick actually. It'… 2017-12-25 \u001b[90m17:42:50\u001b[39m\n",
            "\u001b[90m 3\u001b[39m itscool83           \u001b[90m\"\u001b[39mtell her you guys should hang out w… 2017-12-25 \u001b[90m18:54:13\u001b[39m\n",
            "\u001b[90m 4\u001b[39m Glu7enFree          \u001b[90m\"\u001b[39mAutism is a high honor in the tech … 2017-12-25 \u001b[90m07:48:17\u001b[39m\n",
            "\u001b[90m 5\u001b[39m Theotheogreato      \u001b[90m\"\u001b[39mYou thought a cat was your son?! \u001b[90m\"\u001b[39m   2017-12-25 \u001b[90m20:58:08\u001b[39m\n",
            "\u001b[90m 6\u001b[39m Shadrac121          \u001b[90m\"\u001b[39mHopfully she takes wat people say i… 2017-12-25 \u001b[90m22:27:31\u001b[39m\n",
            "\u001b[90m 7\u001b[39m 1fzUjhemoSB1QV7zI7  \u001b[90m\"\u001b[39mSi ce propui sa facem cu toata piel… 2017-12-25 \u001b[90m07:41:31\u001b[39m\n",
            "\u001b[90m 8\u001b[39m MinisterOfEducation \u001b[90m\"\u001b[39mI don't mean to be impolite, but if… 2017-12-25 \u001b[90m19:28:35\u001b[39m\n",
            "\u001b[90m 9\u001b[39m AabidS10            \u001b[90m\"\u001b[39mi dont have a 720p x265 of it, sorr… 2017-12-25 \u001b[90m13:20:32\u001b[39m\n",
            "\u001b[90m10\u001b[39m S3RG10              \u001b[90m\"\u001b[39mI'm dying to try Guatemalan sandals… 2017-12-25 \u001b[90m00:48:46\u001b[39m\n",
            "\u001b[90m# … with 99,990 more rows\u001b[39m\n"
          ]
        }
      ],
      "source": [
        "load(url('https://datasets.stats306.org/reddit_xmas_2017.RData'))\n",
        "reddit %>% print"
      ]
    },
    {
      "cell_type": "markdown",
      "metadata": {
        "id": "YZErB86_KDNK",
        "nbgrader": {
          "grade": false,
          "grade_id": "cell-d055c5ffc0dc61ba",
          "locked": true,
          "schema_version": 3,
          "solution": false
        }
      },
      "source": [
        "Comment 174 wishes everyone a happy holidays:"
      ]
    },
    {
      "cell_type": "code",
      "execution_count": null,
      "metadata": {
        "id": "fvlU2g-fKDNK",
        "nbgrader": {
          "grade": false,
          "grade_id": "cell-f56b4f43b6f4cafa",
          "locked": true,
          "schema_version": 3,
          "solution": false,
          "task": false
        },
        "vscode": {
          "languageId": "r"
        },
        "colab": {
          "base_uri": "https://localhost:8080/",
          "height": 130
        },
        "outputId": "6f5d3983-201e-435c-9d49-e574dd1ee6b9"
      },
      "outputs": [
        {
          "output_type": "display_data",
          "data": {
            "text/html": [
              "<table class=\"dataframe\">\n",
              "<caption>A tibble: 1 × 3</caption>\n",
              "<thead>\n",
              "\t<tr><th scope=col>author</th><th scope=col>body</th><th scope=col>created_utc</th></tr>\n",
              "\t<tr><th scope=col>&lt;chr&gt;</th><th scope=col>&lt;chr&gt;</th><th scope=col>&lt;dttm&gt;</th></tr>\n",
              "</thead>\n",
              "<tbody>\n",
              "\t<tr><td>Bareilles</td><td>Thank you. Happy holidays everyone!</td><td>2017-12-25 01:33:50</td></tr>\n",
              "</tbody>\n",
              "</table>\n"
            ],
            "text/markdown": "\nA tibble: 1 × 3\n\n| author &lt;chr&gt; | body &lt;chr&gt; | created_utc &lt;dttm&gt; |\n|---|---|---|\n| Bareilles | Thank you. Happy holidays everyone! | 2017-12-25 01:33:50 |\n\n",
            "text/latex": "A tibble: 1 × 3\n\\begin{tabular}{lll}\n author & body & created\\_utc\\\\\n <chr> & <chr> & <dttm>\\\\\n\\hline\n\t Bareilles & Thank you. Happy holidays everyone! & 2017-12-25 01:33:50\\\\\n\\end{tabular}\n",
            "text/plain": [
              "  author    body                                created_utc        \n",
              "1 Bareilles Thank you. Happy holidays everyone! 2017-12-25 01:33:50"
            ]
          },
          "metadata": {}
        }
      ],
      "source": [
        "reddit %>% slice(174)"
      ]
    },
    {
      "cell_type": "markdown",
      "metadata": {
        "id": "jWuZAcnAKDNK",
        "nbgrader": {
          "grade": false,
          "grade_id": "cell-ce3d459d5d49dde1",
          "locked": true,
          "schema_version": 3,
          "solution": false
        }
      },
      "source": [
        "**2(a)**  What are other people wishing? Count the first occurrence of the string \"Happy `<word>`\" or \"Merry `<word>`\" in the comment body, if any, count the matches. To keep things interesting, do *not* include phrases matching `(happy|merry) (to|with|for|about|and|that|if|i|you|when)`.\n",
        "\n",
        "Print a table containing the top 10 matches; a few of the rows are:\n",
        "\n",
        "<table>\n",
        "<thead>\n",
        "    <tr><th scope=\"col\">greeting</th><th scope=\"col\">n</th></tr>\n",
        "    <tr><th scope=\"col\">&lt;chr&gt;</th><th scope=\"col\">&lt;int&gt;</th></tr>\n",
        "</thead>\n",
        "<tbody>\n",
        "    <tr><td>merry christmas</td><td>2040</td></tr>\n",
        "    <tr><td>happy holidays </td><td> &mdash;</td></tr>\n",
        "    <tr><td>&mdash;        </td><td> &mdash;</td></tr>\n",
        "    <tr><td>&mdash;        </td><td> &mdash;</td></tr>\n",
        "    <tr><td>&mdash;        </td><td> &mdash;</td></tr>\n",
        "    <tr><td>&mdash;        </td><td> &mdash;</td></tr>\n",
        "    <tr><td>&mdash;        </td><td> &mdash;</td></tr>\n",
        "    <tr><td>&mdash;        </td><td> &mdash;</td></tr>\n",
        "    <tr><td>&mdash;        </td><td>   7</td></tr>\n",
        "    <tr><td>happy cakeday  </td><td>   6</td></tr>\n",
        "</tbody>\n",
        "</table>\n",
        "\n",
        "Your numbers may vary slightly depending on how you performed the match."
      ]
    },
    {
      "cell_type": "code",
      "execution_count": null,
      "metadata": {
        "id": "ih_LFXpgKDNL",
        "nbgrader": {
          "grade": true,
          "grade_id": "problem7",
          "locked": false,
          "points": 0,
          "schema_version": 3,
          "solution": true,
          "task": false
        },
        "vscode": {
          "languageId": "r"
        },
        "colab": {
          "base_uri": "https://localhost:8080/",
          "height": 412
        },
        "outputId": "b7153c53-88b1-45f8-a0a7-a54996c610dc"
      },
      "outputs": [
        {
          "output_type": "display_data",
          "data": {
            "text/html": [
              "<table class=\"dataframe\">\n",
              "<caption>A tibble: 10 × 2</caption>\n",
              "<thead>\n",
              "\t<tr><th scope=col>greeting</th><th scope=col>n</th></tr>\n",
              "\t<tr><th scope=col>&lt;chr&gt;</th><th scope=col>&lt;int&gt;</th></tr>\n",
              "</thead>\n",
              "<tbody>\n",
              "\t<tr><td>merry christmas</td><td>2040</td></tr>\n",
              "\t<tr><td>happy holidays </td><td> 477</td></tr>\n",
              "\t<tr><td>merry xmas     </td><td>  93</td></tr>\n",
              "\t<tr><td>happy christmas</td><td>  44</td></tr>\n",
              "\t<tr><td>happy cake     </td><td>  28</td></tr>\n",
              "\t<tr><td>happy birthday </td><td>  23</td></tr>\n",
              "\t<tr><td>happy new      </td><td>  15</td></tr>\n",
              "\t<tr><td>happy holiday  </td><td>  13</td></tr>\n",
              "\t<tr><td>merry x        </td><td>   7</td></tr>\n",
              "\t<tr><td>happy cakeday  </td><td>   6</td></tr>\n",
              "</tbody>\n",
              "</table>\n"
            ],
            "text/markdown": "\nA tibble: 10 × 2\n\n| greeting &lt;chr&gt; | n &lt;int&gt; |\n|---|---|\n| merry christmas | 2040 |\n| happy holidays  |  477 |\n| merry xmas      |   93 |\n| happy christmas |   44 |\n| happy cake      |   28 |\n| happy birthday  |   23 |\n| happy new       |   15 |\n| happy holiday   |   13 |\n| merry x         |    7 |\n| happy cakeday   |    6 |\n\n",
            "text/latex": "A tibble: 10 × 2\n\\begin{tabular}{ll}\n greeting & n\\\\\n <chr> & <int>\\\\\n\\hline\n\t merry christmas & 2040\\\\\n\t happy holidays  &  477\\\\\n\t merry xmas      &   93\\\\\n\t happy christmas &   44\\\\\n\t happy cake      &   28\\\\\n\t happy birthday  &   23\\\\\n\t happy new       &   15\\\\\n\t happy holiday   &   13\\\\\n\t merry x         &    7\\\\\n\t happy cakeday   &    6\\\\\n\\end{tabular}\n",
            "text/plain": [
              "   greeting        n   \n",
              "1  merry christmas 2040\n",
              "2  happy holidays   477\n",
              "3  merry xmas        93\n",
              "4  happy christmas   44\n",
              "5  happy cake        28\n",
              "6  happy birthday    23\n",
              "7  happy new         15\n",
              "8  happy holiday     13\n",
              "9  merry x            7\n",
              "10 happy cakeday      6"
            ]
          },
          "metadata": {}
        }
      ],
      "source": [
        "### YOUR SOLUTION HERE\n",
        "reddit %>%\n",
        "  mutate(lowercase = tolower(body)) %>%\n",
        "  mutate(greeting = str_extract(lowercase, \"[Hh]appy\\\\s\\\\w+|[Mm]erry\\\\s\\\\w+\")) %>%\n",
        "  filter(greeting != \"happy to\" & greeting != \"merry to\" &\n",
        "         greeting != \"happy with\" & greeting != \"merry with\" &\n",
        "         greeting != \"happy for\" & greeting != \"merry for\" &\n",
        "         greeting != \"happy about\" & greeting != \"merry about\" &\n",
        "         greeting != \"happy and\" & greeting != \"merry and\" &\n",
        "         greeting != \"happy that\" & greeting != \"merry that\" &\n",
        "         greeting != \"happy if\" & greeting != \"merry if\" &\n",
        "         greeting != \"happy i\" & greeting != \"merry i\" &\n",
        "         greeting != \"happy you\" & greeting != \"merry you\" &\n",
        "         greeting != \"happy when\" & greeting != \"merry when\") %>%\n",
        "  filter(!is.na(greeting)) %>%\n",
        "  count(greeting) %>%\n",
        "  arrange(desc(n)) %>% head(10)"
      ]
    },
    {
      "cell_type": "markdown",
      "metadata": {
        "deletable": false,
        "editable": false,
        "id": "nStN0Jb5KDNL",
        "nbgrader": {
          "grade": false,
          "grade_id": "cell-0868e4922137bd0e",
          "locked": true,
          "schema_version": 3,
          "solution": false
        },
        "run_control": {
          "frozen": true
        }
      },
      "source": [
        "**2(b)** Find the number of times `christmas`or `xmas` mentioned each hour. Similarly, find the number of mentions per hour of `snow` or `flakes`. Draw a plot comparing these two time series. (1 point)"
      ]
    },
    {
      "cell_type": "code",
      "source": [
        "library(lubridate)"
      ],
      "metadata": {
        "id": "-jc20-rNakhk"
      },
      "execution_count": null,
      "outputs": []
    },
    {
      "cell_type": "code",
      "source": [
        "christmas <- reddit %>%\n",
        "  mutate(xmas_mentions = str_extract(body, \"Christmas | christmas | Xmas | xmas\")) %>%\n",
        "  drop_na(xmas_mentions) %>%\n",
        "  mutate(hour = hour(created_utc)) %>%\n",
        "  mutate(yearmonthday = date(created_utc)) %>%\n",
        "  group_by(yearmonthday, hour) %>%\n",
        "  count(xmas_mentions) %>%\n",
        "  summarize(mentions = sum(n)) %>%\n",
        "  mutate(mention_type = \"christmas\")\n",
        "\n",
        "snow <- reddit %>%\n",
        "  mutate(snow_mentions = str_extract(body, \"snow | Snow | flakes | Flakes\")) %>%\n",
        "  drop_na(snow_mentions) %>%\n",
        "  mutate(hour = hour(created_utc)) %>%\n",
        "  mutate(yearmonthday = date(created_utc)) %>%\n",
        "  group_by(yearmonthday, hour) %>%\n",
        "  count(snow_mentions) %>%\n",
        "  summarize(mentions = sum(n)) %>%\n",
        "  mutate(mention_type = \"snow\")\n",
        "\n",
        "new_df <- rbind(christmas, snow)\n",
        "\n",
        "new_df %>%\n",
        "  ggplot(aes(x = hour, y = mentions, color = mention_type)) +\n",
        "    geom_line() + labs(title = \"Mentions by Hour\") +\n",
        "    xlab(\"Hour\") + ylab(\"Number of Mentions\") + scale_color_discrete(name = \"Type of Mentions\",\n",
        "                       labels = c(\"Christmas\", \"Snow\"))"
      ],
      "metadata": {
        "colab": {
          "base_uri": "https://localhost:8080/",
          "height": 266
        },
        "id": "hYD0d4ONisI5",
        "outputId": "817a2056-2b1d-421f-d87a-2da1051e05b2"
      },
      "execution_count": null,
      "outputs": [
        {
          "output_type": "stream",
          "name": "stderr",
          "text": [
            "\u001b[1m\u001b[22m`summarise()` has grouped output by 'yearmonthday'. You can override using the\n",
            "`.groups` argument.\n",
            "\u001b[1m\u001b[22m`summarise()` has grouped output by 'yearmonthday'. You can override using the\n",
            "`.groups` argument.\n"
          ]
        },
        {
          "output_type": "display_data",
          "data": {
            "text/plain": [
              "plot without title"
            ],
            "image/png": "[encoded data removed]"
          },
          "metadata": {
            "image/png": {
              "width": 240,
              "height": 180
            }
          }
        }
      ]
    },
    {
      "cell_type": "markdown",
      "metadata": {
        "deletable": false,
        "editable": false,
        "id": "Bl53I2qzKDNM",
        "nbgrader": {
          "grade": false,
          "grade_id": "cell-7674a04533f8934b",
          "locked": true,
          "schema_version": 3,
          "solution": false
        },
        "run_control": {
          "frozen": true
        }
      },
      "source": [
        "**2(c)** On Christmas Day, the word `christmas` occurs 4264 times. What is the next most common word after Christmas, and how many times does it appear? (1 point)"
      ]
    },
    {
      "cell_type": "code",
      "execution_count": null,
      "metadata": {
        "id": "SceqDZbwKDNM",
        "nbgrader": {
          "grade": true,
          "grade_id": "problem9",
          "locked": false,
          "points": 0,
          "schema_version": 3,
          "solution": true,
          "task": false
        },
        "vscode": {
          "languageId": "r"
        },
        "colab": {
          "base_uri": "https://localhost:8080/",
          "height": 161
        },
        "outputId": "e4d7a5fe-0a1a-44c8-f90c-be2389663bb1"
      },
      "outputs": [
        {
          "output_type": "display_data",
          "data": {
            "text/html": [
              "<table class=\"dataframe\">\n",
              "<caption>A tibble: 2 × 2</caption>\n",
              "<thead>\n",
              "\t<tr><th scope=col>word</th><th scope=col>n</th></tr>\n",
              "\t<tr><th scope=col>&lt;chr&gt;</th><th scope=col>&lt;int&gt;</th></tr>\n",
              "</thead>\n",
              "<tbody>\n",
              "\t<tr><td>christmas</td><td>4259</td></tr>\n",
              "\t<tr><td>only     </td><td>4151</td></tr>\n",
              "</tbody>\n",
              "</table>\n"
            ],
            "text/markdown": "\nA tibble: 2 × 2\n\n| word &lt;chr&gt; | n &lt;int&gt; |\n|---|---|\n| christmas | 4259 |\n| only      | 4151 |\n\n",
            "text/latex": "A tibble: 2 × 2\n\\begin{tabular}{ll}\n word & n\\\\\n <chr> & <int>\\\\\n\\hline\n\t christmas & 4259\\\\\n\t only      & 4151\\\\\n\\end{tabular}\n",
            "text/plain": [
              "  word      n   \n",
              "1 christmas 4259\n",
              "2 only      4151"
            ]
          },
          "metadata": {}
        }
      ],
      "source": [
        "### YOUR SOLUTION HERE\n",
        "comment_words <- reddit %>%\n",
        "                    unnest_tokens(word, body)\n",
        "\n",
        "comment_words %>%\n",
        "  count(word) %>%\n",
        "  filter(n <= 4300) %>%\n",
        "  arrange(desc(n)) %>%\n",
        "  head(2)"
      ]
    },
    {
      "cell_type": "markdown",
      "source": [
        "**The next most common word after \"christmas\" on Christmas day was \"only\" with 4151 occurrences.**"
      ],
      "metadata": {
        "id": "qc9nO-9zh0-E"
      }
    },
    {
      "cell_type": "markdown",
      "metadata": {
        "deletable": false,
        "editable": false,
        "id": "lr2DRmGZvcXQ",
        "run_control": {
          "frozen": true
        }
      },
      "source": [
        "**2(d)** Using `afinn` dataset, calculate the average sentiment scores of reddit comments for each hour. When is the most positive time in Christmas Day? (1 point)"
      ]
    },
    {
      "cell_type": "code",
      "execution_count": null,
      "metadata": {
        "id": "BcjSBHwl0Dtr",
        "vscode": {
          "languageId": "r"
        },
        "colab": {
          "base_uri": "https://localhost:8080/",
          "height": 851
        },
        "outputId": "ff674359-4244-422f-c235-a9c515e4a8ac"
      },
      "outputs": [
        {
          "output_type": "display_data",
          "data": {
            "text/html": [
              "<table class=\"dataframe\">\n",
              "<caption>A tibble: 24 × 2</caption>\n",
              "<thead>\n",
              "\t<tr><th scope=col>hour</th><th scope=col>avg_sentiment</th></tr>\n",
              "\t<tr><th scope=col>&lt;int&gt;</th><th scope=col>&lt;dbl&gt;</th></tr>\n",
              "</thead>\n",
              "<tbody>\n",
              "\t<tr><td> 4</td><td>0.9891790</td></tr>\n",
              "\t<tr><td> 5</td><td>0.9697171</td></tr>\n",
              "\t<tr><td>21</td><td>0.9642078</td></tr>\n",
              "\t<tr><td>14</td><td>0.9584906</td></tr>\n",
              "\t<tr><td>11</td><td>0.9511098</td></tr>\n",
              "\t<tr><td>19</td><td>0.9363501</td></tr>\n",
              "\t<tr><td>13</td><td>0.9325351</td></tr>\n",
              "\t<tr><td> 0</td><td>0.9318977</td></tr>\n",
              "\t<tr><td> 3</td><td>0.9298659</td></tr>\n",
              "\t<tr><td>16</td><td>0.9263173</td></tr>\n",
              "\t<tr><td> 7</td><td>0.9160472</td></tr>\n",
              "\t<tr><td> 1</td><td>0.9130623</td></tr>\n",
              "\t<tr><td> 2</td><td>0.9116215</td></tr>\n",
              "\t<tr><td> 6</td><td>0.9102180</td></tr>\n",
              "\t<tr><td> 8</td><td>0.9089990</td></tr>\n",
              "\t<tr><td>17</td><td>0.9054000</td></tr>\n",
              "\t<tr><td>10</td><td>0.9036073</td></tr>\n",
              "\t<tr><td>15</td><td>0.9034550</td></tr>\n",
              "\t<tr><td>18</td><td>0.9003204</td></tr>\n",
              "\t<tr><td>20</td><td>0.8993703</td></tr>\n",
              "\t<tr><td>12</td><td>0.8827462</td></tr>\n",
              "\t<tr><td>23</td><td>0.8746450</td></tr>\n",
              "\t<tr><td> 9</td><td>0.8684955</td></tr>\n",
              "\t<tr><td>22</td><td>0.8570007</td></tr>\n",
              "</tbody>\n",
              "</table>\n"
            ],
            "text/markdown": "\nA tibble: 24 × 2\n\n| hour &lt;int&gt; | avg_sentiment &lt;dbl&gt; |\n|---|---|\n|  4 | 0.9891790 |\n|  5 | 0.9697171 |\n| 21 | 0.9642078 |\n| 14 | 0.9584906 |\n| 11 | 0.9511098 |\n| 19 | 0.9363501 |\n| 13 | 0.9325351 |\n|  0 | 0.9318977 |\n|  3 | 0.9298659 |\n| 16 | 0.9263173 |\n|  7 | 0.9160472 |\n|  1 | 0.9130623 |\n|  2 | 0.9116215 |\n|  6 | 0.9102180 |\n|  8 | 0.9089990 |\n| 17 | 0.9054000 |\n| 10 | 0.9036073 |\n| 15 | 0.9034550 |\n| 18 | 0.9003204 |\n| 20 | 0.8993703 |\n| 12 | 0.8827462 |\n| 23 | 0.8746450 |\n|  9 | 0.8684955 |\n| 22 | 0.8570007 |\n\n",
            "text/latex": "A tibble: 24 × 2\n\\begin{tabular}{ll}\n hour & avg\\_sentiment\\\\\n <int> & <dbl>\\\\\n\\hline\n\t  4 & 0.9891790\\\\\n\t  5 & 0.9697171\\\\\n\t 21 & 0.9642078\\\\\n\t 14 & 0.9584906\\\\\n\t 11 & 0.9511098\\\\\n\t 19 & 0.9363501\\\\\n\t 13 & 0.9325351\\\\\n\t  0 & 0.9318977\\\\\n\t  3 & 0.9298659\\\\\n\t 16 & 0.9263173\\\\\n\t  7 & 0.9160472\\\\\n\t  1 & 0.9130623\\\\\n\t  2 & 0.9116215\\\\\n\t  6 & 0.9102180\\\\\n\t  8 & 0.9089990\\\\\n\t 17 & 0.9054000\\\\\n\t 10 & 0.9036073\\\\\n\t 15 & 0.9034550\\\\\n\t 18 & 0.9003204\\\\\n\t 20 & 0.8993703\\\\\n\t 12 & 0.8827462\\\\\n\t 23 & 0.8746450\\\\\n\t  9 & 0.8684955\\\\\n\t 22 & 0.8570007\\\\\n\\end{tabular}\n",
            "text/plain": [
              "   hour avg_sentiment\n",
              "1   4   0.9891790    \n",
              "2   5   0.9697171    \n",
              "3  21   0.9642078    \n",
              "4  14   0.9584906    \n",
              "5  11   0.9511098    \n",
              "6  19   0.9363501    \n",
              "7  13   0.9325351    \n",
              "8   0   0.9318977    \n",
              "9   3   0.9298659    \n",
              "10 16   0.9263173    \n",
              "11  7   0.9160472    \n",
              "12  1   0.9130623    \n",
              "13  2   0.9116215    \n",
              "14  6   0.9102180    \n",
              "15  8   0.9089990    \n",
              "16 17   0.9054000    \n",
              "17 10   0.9036073    \n",
              "18 15   0.9034550    \n",
              "19 18   0.9003204    \n",
              "20 20   0.8993703    \n",
              "21 12   0.8827462    \n",
              "22 23   0.8746450    \n",
              "23  9   0.8684955    \n",
              "24 22   0.8570007    "
            ]
          },
          "metadata": {}
        }
      ],
      "source": [
        "### YOUR SOLUTION HERE\n",
        "comment_words %>%\n",
        "  mutate(hour = hour(created_utc)) %>%\n",
        "  left_join(afinn, join_by(word)) %>%\n",
        "  drop_na(value) %>%\n",
        "  group_by(hour) %>%\n",
        "  summarize(avg_sentiment = mean(value)) %>%\n",
        "  arrange(desc(avg_sentiment))"
      ]
    },
    {
      "cell_type": "markdown",
      "source": [
        "**Hour 4 on Christmas Day was the most positive time, with an average sentiment score of 0.989.**"
      ],
      "metadata": {
        "id": "2FM1f2zllQes"
      }
    },
    {
      "cell_type": "markdown",
      "metadata": {
        "id": "_DTj2_MG0dDA"
      },
      "source": [
        "## Challenge Problem: Text Ranking (2 points)\n",
        "Not all terms/words are equally important, and some carry more information about contents. But how do we measure the importance? One popular method is using TF-IDF (term frequency–inverse document frequency). TF-IDF is a numerical statistic that is intended to reflect how important a word is to a document in a collection. Term Frequency measures the relative frequency of term within document. Inverse Document Frequency measures of how much information the word provides for the collection.\n",
        "\n",
        "We defined TF-IDF as:\n",
        "$$\\text{TF-IDF} = \\operatorname{TF}(t,d) \\times \\operatorname{IDF}(t)$$\n",
        "$$\\operatorname{TF}(t, d) = \\log(1+c(t,d))$$\n",
        "$$\\operatorname{IDF}(t) = 1 + \\log(N/k)$$\n",
        "where $c(t,d)$ is the frequency count of term $t$ in document $d$, $N$ is the total number of documents in the collection, $k$ is the number\n",
        "of documents containing term $t$\n"
      ]
    },
    {
      "cell_type": "markdown",
      "metadata": {
        "deletable": false,
        "editable": false,
        "id": "hZu4hDN843rC",
        "run_control": {
          "frozen": true
        }
      },
      "source": [
        "**(a)** Consider the Harry Potter series as a collection of documents(books), find top 5 words in each book ranked by TF-IDF. Comment on your finding. (1 point)\n",
        "\n",
        "_Hint_: You can either compute this by hand, using the definitions shown above, or employ built-in functions in the `tidytext` package."
      ]
    },
    {
      "cell_type": "code",
      "source": [
        "install.packages(\"tidytext\")\n",
        "library(tidytext)\n"
      ],
      "metadata": {
        "id": "wU9my77eO_jN",
        "colab": {
          "base_uri": "https://localhost:8080/"
        },
        "outputId": "c15f4aa4-cf68-43d5-fb37-82db08f21070"
      },
      "execution_count": null,
      "outputs": [
        {
          "output_type": "stream",
          "name": "stderr",
          "text": [
            "Installing package into ‘/usr/local/lib/R/site-library’\n",
            "(as ‘lib’ is unspecified)\n",
            "\n"
          ]
        }
      ]
    },
    {
      "cell_type": "code",
      "source": [
        "#YOUR SOLUTION HERE\n",
        "hpwords <- chapter_words %>%\n",
        "  left_join(chapter_data, join_by(sentence_id, book, chapter))\n",
        "\n",
        "total_usage_counts <- hpwords %>%\n",
        "  select(book, word) %>%\n",
        "  count(word) %>%\n",
        "  arrange(desc(n))\n",
        "\n",
        "usage_per_book <- hpwords %>%\n",
        "  group_by(book) %>%\n",
        "  select(book, word) %>%\n",
        "  count(word) %>%\n",
        "  arrange(desc(n))\n",
        "\n",
        "dataframe <- usage_per_book %>%\n",
        "  left_join(total_usage_counts, join_by(word))\n",
        "\n",
        "hp_tf_idf <- dataframe %>%\n",
        "  bind_tf_idf(word, book, n.x)\n",
        "\n",
        "hp_tf_idf$book <- factor(hp_tf_idf$book, levels = c(\"philosophers_stone\", \"chamber_of_secrets\", \"prisoner_of_azkaban\", \"goblet_of_fire\", \"order_of_the_phoenix\", \"half_blood_prince\", \"deathly_hallows\"))\n",
        "\n",
        "hp_tf_idf %>%\n",
        "  arrange(desc(tf_idf)) %>%\n",
        "  group_by(book) %>%\n",
        "  slice(1:5) %>%\n",
        "  select(book, word, tf_idf)"
      ],
      "metadata": {
        "colab": {
          "base_uri": "https://localhost:8080/",
          "height": 1000
        },
        "id": "8F4aQIypmgCq",
        "outputId": "f941887d-7e75-499f-a643-991b44fb73cd"
      },
      "execution_count": null,
      "outputs": [
        {
          "output_type": "display_data",
          "data": {
            "text/html": [
              "<table class=\"dataframe\">\n",
              "<caption>A grouped_df: 35 × 3</caption>\n",
              "<thead>\n",
              "\t<tr><th scope=col>book</th><th scope=col>word</th><th scope=col>tf_idf</th></tr>\n",
              "\t<tr><th scope=col>&lt;fct&gt;</th><th scope=col>&lt;chr&gt;</th><th scope=col>&lt;dbl&gt;</th></tr>\n",
              "</thead>\n",
              "<tbody>\n",
              "\t<tr><td>philosophers_stone  </td><td>quirrell   </td><td>0.0006467387</td></tr>\n",
              "\t<tr><td>philosophers_stone  </td><td>mom        </td><td>0.0004247839</td></tr>\n",
              "\t<tr><td>philosophers_stone  </td><td>flamel     </td><td>0.0004021659</td></tr>\n",
              "\t<tr><td>philosophers_stone  </td><td>quirrell's </td><td>0.0003539060</td></tr>\n",
              "\t<tr><td>philosophers_stone  </td><td>nicolas    </td><td>0.0002573862</td></tr>\n",
              "\t<tr><td>chamber_of_secrets  </td><td>lockhart   </td><td>0.0012907961</td></tr>\n",
              "\t<tr><td>chamber_of_secrets  </td><td>gilderoy   </td><td>0.0005573833</td></tr>\n",
              "\t<tr><td>chamber_of_secrets  </td><td>dobby      </td><td>0.0005476026</td></tr>\n",
              "\t<tr><td>chamber_of_secrets  </td><td>myrtle     </td><td>0.0004662678</td></tr>\n",
              "\t<tr><td>chamber_of_secrets  </td><td>riddle     </td><td>0.0003978983</td></tr>\n",
              "\t<tr><td>prisoner_of_azkaban </td><td>lupin      </td><td>0.0011791915</td></tr>\n",
              "\t<tr><td>prisoner_of_azkaban </td><td>pettigrew  </td><td>0.0007081537</td></tr>\n",
              "\t<tr><td>prisoner_of_azkaban </td><td>marge      </td><td>0.0004184545</td></tr>\n",
              "\t<tr><td>prisoner_of_azkaban </td><td>black's    </td><td>0.0003782185</td></tr>\n",
              "\t<tr><td>prisoner_of_azkaban </td><td>scabbers   </td><td>0.0003387379</td></tr>\n",
              "\t<tr><td>goblet_of_fire      </td><td>bagman     </td><td>0.0013576124</td></tr>\n",
              "\t<tr><td>goblet_of_fire      </td><td>winky      </td><td>0.0009464125</td></tr>\n",
              "\t<tr><td>goblet_of_fire      </td><td>champions  </td><td>0.0008516196</td></tr>\n",
              "\t<tr><td>goblet_of_fire      </td><td>ludo       </td><td>0.0007198213</td></tr>\n",
              "\t<tr><td>goblet_of_fire      </td><td>karkaroff  </td><td>0.0006224418</td></tr>\n",
              "\t<tr><td>order_of_the_phoenix</td><td>umbridge   </td><td>0.0016237090</td></tr>\n",
              "\t<tr><td>order_of_the_phoenix</td><td>towards    </td><td>0.0005794489</td></tr>\n",
              "\t<tr><td>order_of_the_phoenix</td><td>defence    </td><td>0.0004962004</td></tr>\n",
              "\t<tr><td>order_of_the_phoenix</td><td>luna       </td><td>0.0004550314</td></tr>\n",
              "\t<tr><td>order_of_the_phoenix</td><td>umbridge's </td><td>0.0003533314</td></tr>\n",
              "\t<tr><td>half_blood_prince   </td><td>slughorn   </td><td>0.0024896970</td></tr>\n",
              "\t<tr><td>half_blood_prince   </td><td>mclaggen   </td><td>0.0007371559</td></tr>\n",
              "\t<tr><td>half_blood_prince   </td><td>morfin     </td><td>0.0006464290</td></tr>\n",
              "\t<tr><td>half_blood_prince   </td><td>slughorn's </td><td>0.0006010656</td></tr>\n",
              "\t<tr><td>half_blood_prince   </td><td>quot       </td><td>0.0004876570</td></tr>\n",
              "\t<tr><td>deathly_hallows     </td><td>c          </td><td>0.0021900699</td></tr>\n",
              "\t<tr><td>deathly_hallows     </td><td>xenophilius</td><td>0.0008281464</td></tr>\n",
              "\t<tr><td>deathly_hallows     </td><td>griphook   </td><td>0.0007526890</td></tr>\n",
              "\t<tr><td>deathly_hallows     </td><td>hallows    </td><td>0.0006527742</td></tr>\n",
              "\t<tr><td>deathly_hallows     </td><td>horcrux    </td><td>0.0005833339</td></tr>\n",
              "</tbody>\n",
              "</table>\n"
            ],
            "text/markdown": "\nA grouped_df: 35 × 3\n\n| book &lt;fct&gt; | word &lt;chr&gt; | tf_idf &lt;dbl&gt; |\n|---|---|---|\n| philosophers_stone   | quirrell    | 0.0006467387 |\n| philosophers_stone   | mom         | 0.0004247839 |\n| philosophers_stone   | flamel      | 0.0004021659 |\n| philosophers_stone   | quirrell's  | 0.0003539060 |\n| philosophers_stone   | nicolas     | 0.0002573862 |\n| chamber_of_secrets   | lockhart    | 0.0012907961 |\n| chamber_of_secrets   | gilderoy    | 0.0005573833 |\n| chamber_of_secrets   | dobby       | 0.0005476026 |\n| chamber_of_secrets   | myrtle      | 0.0004662678 |\n| chamber_of_secrets   | riddle      | 0.0003978983 |\n| prisoner_of_azkaban  | lupin       | 0.0011791915 |\n| prisoner_of_azkaban  | pettigrew   | 0.0007081537 |\n| prisoner_of_azkaban  | marge       | 0.0004184545 |\n| prisoner_of_azkaban  | black's     | 0.0003782185 |\n| prisoner_of_azkaban  | scabbers    | 0.0003387379 |\n| goblet_of_fire       | bagman      | 0.0013576124 |\n| goblet_of_fire       | winky       | 0.0009464125 |\n| goblet_of_fire       | champions   | 0.0008516196 |\n| goblet_of_fire       | ludo        | 0.0007198213 |\n| goblet_of_fire       | karkaroff   | 0.0006224418 |\n| order_of_the_phoenix | umbridge    | 0.0016237090 |\n| order_of_the_phoenix | towards     | 0.0005794489 |\n| order_of_the_phoenix | defence     | 0.0004962004 |\n| order_of_the_phoenix | luna        | 0.0004550314 |\n| order_of_the_phoenix | umbridge's  | 0.0003533314 |\n| half_blood_prince    | slughorn    | 0.0024896970 |\n| half_blood_prince    | mclaggen    | 0.0007371559 |\n| half_blood_prince    | morfin      | 0.0006464290 |\n| half_blood_prince    | slughorn's  | 0.0006010656 |\n| half_blood_prince    | quot        | 0.0004876570 |\n| deathly_hallows      | c           | 0.0021900699 |\n| deathly_hallows      | xenophilius | 0.0008281464 |\n| deathly_hallows      | griphook    | 0.0007526890 |\n| deathly_hallows      | hallows     | 0.0006527742 |\n| deathly_hallows      | horcrux     | 0.0005833339 |\n\n",
            "text/latex": "A grouped\\_df: 35 × 3\n\\begin{tabular}{lll}\n book & word & tf\\_idf\\\\\n <fct> & <chr> & <dbl>\\\\\n\\hline\n\t philosophers\\_stone   & quirrell    & 0.0006467387\\\\\n\t philosophers\\_stone   & mom         & 0.0004247839\\\\\n\t philosophers\\_stone   & flamel      & 0.0004021659\\\\\n\t philosophers\\_stone   & quirrell's  & 0.0003539060\\\\\n\t philosophers\\_stone   & nicolas     & 0.0002573862\\\\\n\t chamber\\_of\\_secrets   & lockhart    & 0.0012907961\\\\\n\t chamber\\_of\\_secrets   & gilderoy    & 0.0005573833\\\\\n\t chamber\\_of\\_secrets   & dobby       & 0.0005476026\\\\\n\t chamber\\_of\\_secrets   & myrtle      & 0.0004662678\\\\\n\t chamber\\_of\\_secrets   & riddle      & 0.0003978983\\\\\n\t prisoner\\_of\\_azkaban  & lupin       & 0.0011791915\\\\\n\t prisoner\\_of\\_azkaban  & pettigrew   & 0.0007081537\\\\\n\t prisoner\\_of\\_azkaban  & marge       & 0.0004184545\\\\\n\t prisoner\\_of\\_azkaban  & black's     & 0.0003782185\\\\\n\t prisoner\\_of\\_azkaban  & scabbers    & 0.0003387379\\\\\n\t goblet\\_of\\_fire       & bagman      & 0.0013576124\\\\\n\t goblet\\_of\\_fire       & winky       & 0.0009464125\\\\\n\t goblet\\_of\\_fire       & champions   & 0.0008516196\\\\\n\t goblet\\_of\\_fire       & ludo        & 0.0007198213\\\\\n\t goblet\\_of\\_fire       & karkaroff   & 0.0006224418\\\\\n\t order\\_of\\_the\\_phoenix & umbridge    & 0.0016237090\\\\\n\t order\\_of\\_the\\_phoenix & towards     & 0.0005794489\\\\\n\t order\\_of\\_the\\_phoenix & defence     & 0.0004962004\\\\\n\t order\\_of\\_the\\_phoenix & luna        & 0.0004550314\\\\\n\t order\\_of\\_the\\_phoenix & umbridge's  & 0.0003533314\\\\\n\t half\\_blood\\_prince    & slughorn    & 0.0024896970\\\\\n\t half\\_blood\\_prince    & mclaggen    & 0.0007371559\\\\\n\t half\\_blood\\_prince    & morfin      & 0.0006464290\\\\\n\t half\\_blood\\_prince    & slughorn's  & 0.0006010656\\\\\n\t half\\_blood\\_prince    & quot        & 0.0004876570\\\\\n\t deathly\\_hallows      & c           & 0.0021900699\\\\\n\t deathly\\_hallows      & xenophilius & 0.0008281464\\\\\n\t deathly\\_hallows      & griphook    & 0.0007526890\\\\\n\t deathly\\_hallows      & hallows     & 0.0006527742\\\\\n\t deathly\\_hallows      & horcrux     & 0.0005833339\\\\\n\\end{tabular}\n",
            "text/plain": [
              "   book                 word        tf_idf      \n",
              "1  philosophers_stone   quirrell    0.0006467387\n",
              "2  philosophers_stone   mom         0.0004247839\n",
              "3  philosophers_stone   flamel      0.0004021659\n",
              "4  philosophers_stone   quirrell's  0.0003539060\n",
              "5  philosophers_stone   nicolas     0.0002573862\n",
              "6  chamber_of_secrets   lockhart    0.0012907961\n",
              "7  chamber_of_secrets   gilderoy    0.0005573833\n",
              "8  chamber_of_secrets   dobby       0.0005476026\n",
              "9  chamber_of_secrets   myrtle      0.0004662678\n",
              "10 chamber_of_secrets   riddle      0.0003978983\n",
              "11 prisoner_of_azkaban  lupin       0.0011791915\n",
              "12 prisoner_of_azkaban  pettigrew   0.0007081537\n",
              "13 prisoner_of_azkaban  marge       0.0004184545\n",
              "14 prisoner_of_azkaban  black's     0.0003782185\n",
              "15 prisoner_of_azkaban  scabbers    0.0003387379\n",
              "16 goblet_of_fire       bagman      0.0013576124\n",
              "17 goblet_of_fire       winky       0.0009464125\n",
              "18 goblet_of_fire       champions   0.0008516196\n",
              "19 goblet_of_fire       ludo        0.0007198213\n",
              "20 goblet_of_fire       karkaroff   0.0006224418\n",
              "21 order_of_the_phoenix umbridge    0.0016237090\n",
              "22 order_of_the_phoenix towards     0.0005794489\n",
              "23 order_of_the_phoenix defence     0.0004962004\n",
              "24 order_of_the_phoenix luna        0.0004550314\n",
              "25 order_of_the_phoenix umbridge's  0.0003533314\n",
              "26 half_blood_prince    slughorn    0.0024896970\n",
              "27 half_blood_prince    mclaggen    0.0007371559\n",
              "28 half_blood_prince    morfin      0.0006464290\n",
              "29 half_blood_prince    slughorn's  0.0006010656\n",
              "30 half_blood_prince    quot        0.0004876570\n",
              "31 deathly_hallows      c           0.0021900699\n",
              "32 deathly_hallows      xenophilius 0.0008281464\n",
              "33 deathly_hallows      griphook    0.0007526890\n",
              "34 deathly_hallows      hallows     0.0006527742\n",
              "35 deathly_hallows      horcrux     0.0005833339"
            ]
          },
          "metadata": {}
        }
      ]
    },
    {
      "cell_type": "markdown",
      "source": [
        "**I notice that a large majority of these words with a highest TF-IDF value are names of minor Harry Potter characters. This may be because these words are very unique and are less likely to be found throughout all seven books consistently as they are less relevant to the plot when compared to people like Harry Potter or Dumbledore.**"
      ],
      "metadata": {
        "id": "hNqqk5MY8b1T"
      }
    },
    {
      "cell_type": "markdown",
      "metadata": {
        "deletable": false,
        "editable": false,
        "id": "wK3R5ekO50Lj",
        "run_control": {
          "frozen": true
        }
      },
      "source": [
        "**(b)** Stop words are a set of commonly used words in a language like \"the\", \"of\", \"and\", \"to\", \"a\". The `stop_words` table contains a list of such words. If you ignore all the words in `stop_words`, what are the top 10 words (again ranked by TF-IDF) in each Harry Potter book? (1 point)\n",
        "\n",
        "_Hint_: use `anti_join` to exclude words in `stop_words`."
      ]
    },
    {
      "cell_type": "code",
      "execution_count": null,
      "metadata": {
        "id": "_sni-_AHxh0q",
        "vscode": {
          "languageId": "r"
        },
        "colab": {
          "base_uri": "https://localhost:8080/",
          "height": 1000
        },
        "outputId": "faeb1606-138d-4b6a-e03d-9b5baa634dae"
      },
      "outputs": [
        {
          "output_type": "display_data",
          "data": {
            "text/html": [
              "<table class=\"dataframe\">\n",
              "<caption>A grouped_df: 10 × 3</caption>\n",
              "<thead>\n",
              "\t<tr><th scope=col>book</th><th scope=col>word</th><th scope=col>tf_idf</th></tr>\n",
              "\t<tr><th scope=col>&lt;fct&gt;</th><th scope=col>&lt;chr&gt;</th><th scope=col>&lt;dbl&gt;</th></tr>\n",
              "</thead>\n",
              "<tbody>\n",
              "\t<tr><td>philosophers_stone</td><td>quirrell  </td><td>0.0006467387</td></tr>\n",
              "\t<tr><td>philosophers_stone</td><td>mom       </td><td>0.0004247839</td></tr>\n",
              "\t<tr><td>philosophers_stone</td><td>flamel    </td><td>0.0004021659</td></tr>\n",
              "\t<tr><td>philosophers_stone</td><td>quirrell's</td><td>0.0003539060</td></tr>\n",
              "\t<tr><td>philosophers_stone</td><td>nicolas   </td><td>0.0002573862</td></tr>\n",
              "\t<tr><td>philosophers_stone</td><td>piers     </td><td>0.0002412996</td></tr>\n",
              "\t<tr><td>philosophers_stone</td><td>turban    </td><td>0.0002252129</td></tr>\n",
              "\t<tr><td>philosophers_stone</td><td>ronan     </td><td>0.0002176018</td></tr>\n",
              "\t<tr><td>philosophers_stone</td><td>chessmen  </td><td>0.0001998983</td></tr>\n",
              "\t<tr><td>philosophers_stone</td><td>griphook  </td><td>0.0001930396</td></tr>\n",
              "</tbody>\n",
              "</table>\n"
            ],
            "text/markdown": "\nA grouped_df: 10 × 3\n\n| book &lt;fct&gt; | word &lt;chr&gt; | tf_idf &lt;dbl&gt; |\n|---|---|---|\n| philosophers_stone | quirrell   | 0.0006467387 |\n| philosophers_stone | mom        | 0.0004247839 |\n| philosophers_stone | flamel     | 0.0004021659 |\n| philosophers_stone | quirrell's | 0.0003539060 |\n| philosophers_stone | nicolas    | 0.0002573862 |\n| philosophers_stone | piers      | 0.0002412996 |\n| philosophers_stone | turban     | 0.0002252129 |\n| philosophers_stone | ronan      | 0.0002176018 |\n| philosophers_stone | chessmen   | 0.0001998983 |\n| philosophers_stone | griphook   | 0.0001930396 |\n\n",
            "text/latex": "A grouped\\_df: 10 × 3\n\\begin{tabular}{lll}\n book & word & tf\\_idf\\\\\n <fct> & <chr> & <dbl>\\\\\n\\hline\n\t philosophers\\_stone & quirrell   & 0.0006467387\\\\\n\t philosophers\\_stone & mom        & 0.0004247839\\\\\n\t philosophers\\_stone & flamel     & 0.0004021659\\\\\n\t philosophers\\_stone & quirrell's & 0.0003539060\\\\\n\t philosophers\\_stone & nicolas    & 0.0002573862\\\\\n\t philosophers\\_stone & piers      & 0.0002412996\\\\\n\t philosophers\\_stone & turban     & 0.0002252129\\\\\n\t philosophers\\_stone & ronan      & 0.0002176018\\\\\n\t philosophers\\_stone & chessmen   & 0.0001998983\\\\\n\t philosophers\\_stone & griphook   & 0.0001930396\\\\\n\\end{tabular}\n",
            "text/plain": [
              "   book               word       tf_idf      \n",
              "1  philosophers_stone quirrell   0.0006467387\n",
              "2  philosophers_stone mom        0.0004247839\n",
              "3  philosophers_stone flamel     0.0004021659\n",
              "4  philosophers_stone quirrell's 0.0003539060\n",
              "5  philosophers_stone nicolas    0.0002573862\n",
              "6  philosophers_stone piers      0.0002412996\n",
              "7  philosophers_stone turban     0.0002252129\n",
              "8  philosophers_stone ronan      0.0002176018\n",
              "9  philosophers_stone chessmen   0.0001998983\n",
              "10 philosophers_stone griphook   0.0001930396"
            ]
          },
          "metadata": {}
        },
        {
          "output_type": "display_data",
          "data": {
            "text/html": [
              "<table class=\"dataframe\">\n",
              "<caption>A grouped_df: 10 × 3</caption>\n",
              "<thead>\n",
              "\t<tr><th scope=col>book</th><th scope=col>word</th><th scope=col>tf_idf</th></tr>\n",
              "\t<tr><th scope=col>&lt;fct&gt;</th><th scope=col>&lt;chr&gt;</th><th scope=col>&lt;dbl&gt;</th></tr>\n",
              "</thead>\n",
              "<tbody>\n",
              "\t<tr><td>chamber_of_secrets</td><td>lockhart  </td><td>0.0012907961</td></tr>\n",
              "\t<tr><td>chamber_of_secrets</td><td>gilderoy  </td><td>0.0005573833</td></tr>\n",
              "\t<tr><td>chamber_of_secrets</td><td>dobby     </td><td>0.0005476026</td></tr>\n",
              "\t<tr><td>chamber_of_secrets</td><td>myrtle    </td><td>0.0004662678</td></tr>\n",
              "\t<tr><td>chamber_of_secrets</td><td>riddle    </td><td>0.0003978983</td></tr>\n",
              "\t<tr><td>chamber_of_secrets</td><td>lockhart's</td><td>0.0003571413</td></tr>\n",
              "\t<tr><td>chamber_of_secrets</td><td>riddle's  </td><td>0.0003273795</td></tr>\n",
              "\t<tr><td>chamber_of_secrets</td><td>kwikspell </td><td>0.0002734044</td></tr>\n",
              "\t<tr><td>chamber_of_secrets</td><td>stall     </td><td>0.0002734044</td></tr>\n",
              "\t<tr><td>chamber_of_secrets</td><td>diary     </td><td>0.0002521336</td></tr>\n",
              "</tbody>\n",
              "</table>\n"
            ],
            "text/markdown": "\nA grouped_df: 10 × 3\n\n| book &lt;fct&gt; | word &lt;chr&gt; | tf_idf &lt;dbl&gt; |\n|---|---|---|\n| chamber_of_secrets | lockhart   | 0.0012907961 |\n| chamber_of_secrets | gilderoy   | 0.0005573833 |\n| chamber_of_secrets | dobby      | 0.0005476026 |\n| chamber_of_secrets | myrtle     | 0.0004662678 |\n| chamber_of_secrets | riddle     | 0.0003978983 |\n| chamber_of_secrets | lockhart's | 0.0003571413 |\n| chamber_of_secrets | riddle's   | 0.0003273795 |\n| chamber_of_secrets | kwikspell  | 0.0002734044 |\n| chamber_of_secrets | stall      | 0.0002734044 |\n| chamber_of_secrets | diary      | 0.0002521336 |\n\n",
            "text/latex": "A grouped\\_df: 10 × 3\n\\begin{tabular}{lll}\n book & word & tf\\_idf\\\\\n <fct> & <chr> & <dbl>\\\\\n\\hline\n\t chamber\\_of\\_secrets & lockhart   & 0.0012907961\\\\\n\t chamber\\_of\\_secrets & gilderoy   & 0.0005573833\\\\\n\t chamber\\_of\\_secrets & dobby      & 0.0005476026\\\\\n\t chamber\\_of\\_secrets & myrtle     & 0.0004662678\\\\\n\t chamber\\_of\\_secrets & riddle     & 0.0003978983\\\\\n\t chamber\\_of\\_secrets & lockhart's & 0.0003571413\\\\\n\t chamber\\_of\\_secrets & riddle's   & 0.0003273795\\\\\n\t chamber\\_of\\_secrets & kwikspell  & 0.0002734044\\\\\n\t chamber\\_of\\_secrets & stall      & 0.0002734044\\\\\n\t chamber\\_of\\_secrets & diary      & 0.0002521336\\\\\n\\end{tabular}\n",
            "text/plain": [
              "   book               word       tf_idf      \n",
              "1  chamber_of_secrets lockhart   0.0012907961\n",
              "2  chamber_of_secrets gilderoy   0.0005573833\n",
              "3  chamber_of_secrets dobby      0.0005476026\n",
              "4  chamber_of_secrets myrtle     0.0004662678\n",
              "5  chamber_of_secrets riddle     0.0003978983\n",
              "6  chamber_of_secrets lockhart's 0.0003571413\n",
              "7  chamber_of_secrets riddle's   0.0003273795\n",
              "8  chamber_of_secrets kwikspell  0.0002734044\n",
              "9  chamber_of_secrets stall      0.0002734044\n",
              "10 chamber_of_secrets diary      0.0002521336"
            ]
          },
          "metadata": {}
        },
        {
          "output_type": "display_data",
          "data": {
            "text/html": [
              "<table class=\"dataframe\">\n",
              "<caption>A grouped_df: 10 × 3</caption>\n",
              "<thead>\n",
              "\t<tr><th scope=col>book</th><th scope=col>word</th><th scope=col>tf_idf</th></tr>\n",
              "\t<tr><th scope=col>&lt;fct&gt;</th><th scope=col>&lt;chr&gt;</th><th scope=col>&lt;dbl&gt;</th></tr>\n",
              "</thead>\n",
              "<tbody>\n",
              "\t<tr><td>prisoner_of_azkaban</td><td>lupin      </td><td>0.0011791915</td></tr>\n",
              "\t<tr><td>prisoner_of_azkaban</td><td>pettigrew  </td><td>0.0007081537</td></tr>\n",
              "\t<tr><td>prisoner_of_azkaban</td><td>marge      </td><td>0.0004184545</td></tr>\n",
              "\t<tr><td>prisoner_of_azkaban</td><td>black's    </td><td>0.0003782185</td></tr>\n",
              "\t<tr><td>prisoner_of_azkaban</td><td>scabbers   </td><td>0.0003387379</td></tr>\n",
              "\t<tr><td>prisoner_of_azkaban</td><td>dementors  </td><td>0.0003035859</td></tr>\n",
              "\t<tr><td>prisoner_of_azkaban</td><td>boggart    </td><td>0.0002896992</td></tr>\n",
              "\t<tr><td>prisoner_of_azkaban</td><td>crookshanks</td><td>0.0002876077</td></tr>\n",
              "\t<tr><td>prisoner_of_azkaban</td><td>ern        </td><td>0.0002855544</td></tr>\n",
              "\t<tr><td>prisoner_of_azkaban</td><td>buckbeak   </td><td>0.0002396731</td></tr>\n",
              "</tbody>\n",
              "</table>\n"
            ],
            "text/markdown": "\nA grouped_df: 10 × 3\n\n| book &lt;fct&gt; | word &lt;chr&gt; | tf_idf &lt;dbl&gt; |\n|---|---|---|\n| prisoner_of_azkaban | lupin       | 0.0011791915 |\n| prisoner_of_azkaban | pettigrew   | 0.0007081537 |\n| prisoner_of_azkaban | marge       | 0.0004184545 |\n| prisoner_of_azkaban | black's     | 0.0003782185 |\n| prisoner_of_azkaban | scabbers    | 0.0003387379 |\n| prisoner_of_azkaban | dementors   | 0.0003035859 |\n| prisoner_of_azkaban | boggart     | 0.0002896992 |\n| prisoner_of_azkaban | crookshanks | 0.0002876077 |\n| prisoner_of_azkaban | ern         | 0.0002855544 |\n| prisoner_of_azkaban | buckbeak    | 0.0002396731 |\n\n",
            "text/latex": "A grouped\\_df: 10 × 3\n\\begin{tabular}{lll}\n book & word & tf\\_idf\\\\\n <fct> & <chr> & <dbl>\\\\\n\\hline\n\t prisoner\\_of\\_azkaban & lupin       & 0.0011791915\\\\\n\t prisoner\\_of\\_azkaban & pettigrew   & 0.0007081537\\\\\n\t prisoner\\_of\\_azkaban & marge       & 0.0004184545\\\\\n\t prisoner\\_of\\_azkaban & black's     & 0.0003782185\\\\\n\t prisoner\\_of\\_azkaban & scabbers    & 0.0003387379\\\\\n\t prisoner\\_of\\_azkaban & dementors   & 0.0003035859\\\\\n\t prisoner\\_of\\_azkaban & boggart     & 0.0002896992\\\\\n\t prisoner\\_of\\_azkaban & crookshanks & 0.0002876077\\\\\n\t prisoner\\_of\\_azkaban & ern         & 0.0002855544\\\\\n\t prisoner\\_of\\_azkaban & buckbeak    & 0.0002396731\\\\\n\\end{tabular}\n",
            "text/plain": [
              "   book                word        tf_idf      \n",
              "1  prisoner_of_azkaban lupin       0.0011791915\n",
              "2  prisoner_of_azkaban pettigrew   0.0007081537\n",
              "3  prisoner_of_azkaban marge       0.0004184545\n",
              "4  prisoner_of_azkaban black's     0.0003782185\n",
              "5  prisoner_of_azkaban scabbers    0.0003387379\n",
              "6  prisoner_of_azkaban dementors   0.0003035859\n",
              "7  prisoner_of_azkaban boggart     0.0002896992\n",
              "8  prisoner_of_azkaban crookshanks 0.0002876077\n",
              "9  prisoner_of_azkaban ern         0.0002855544\n",
              "10 prisoner_of_azkaban buckbeak    0.0002396731"
            ]
          },
          "metadata": {}
        },
        {
          "output_type": "display_data",
          "data": {
            "text/html": [
              "<table class=\"dataframe\">\n",
              "<caption>A grouped_df: 10 × 3</caption>\n",
              "<thead>\n",
              "\t<tr><th scope=col>book</th><th scope=col>word</th><th scope=col>tf_idf</th></tr>\n",
              "\t<tr><th scope=col>&lt;fct&gt;</th><th scope=col>&lt;chr&gt;</th><th scope=col>&lt;dbl&gt;</th></tr>\n",
              "</thead>\n",
              "<tbody>\n",
              "\t<tr><td>goblet_of_fire</td><td>bagman   </td><td>0.0013576124</td></tr>\n",
              "\t<tr><td>goblet_of_fire</td><td>winky    </td><td>0.0009464125</td></tr>\n",
              "\t<tr><td>goblet_of_fire</td><td>champions</td><td>0.0008516196</td></tr>\n",
              "\t<tr><td>goblet_of_fire</td><td>ludo     </td><td>0.0007198213</td></tr>\n",
              "\t<tr><td>goblet_of_fire</td><td>karkaroff</td><td>0.0006224418</td></tr>\n",
              "\t<tr><td>goblet_of_fire</td><td>krum     </td><td>0.0005539711</td></tr>\n",
              "\t<tr><td>goblet_of_fire</td><td>moody    </td><td>0.0005416906</td></tr>\n",
              "\t<tr><td>goblet_of_fire</td><td>maxime   </td><td>0.0004105468</td></tr>\n",
              "\t<tr><td>goblet_of_fire</td><td>cedric   </td><td>0.0003944349</td></tr>\n",
              "\t<tr><td>goblet_of_fire</td><td>bertha   </td><td>0.0003852565</td></tr>\n",
              "</tbody>\n",
              "</table>\n"
            ],
            "text/markdown": "\nA grouped_df: 10 × 3\n\n| book &lt;fct&gt; | word &lt;chr&gt; | tf_idf &lt;dbl&gt; |\n|---|---|---|\n| goblet_of_fire | bagman    | 0.0013576124 |\n| goblet_of_fire | winky     | 0.0009464125 |\n| goblet_of_fire | champions | 0.0008516196 |\n| goblet_of_fire | ludo      | 0.0007198213 |\n| goblet_of_fire | karkaroff | 0.0006224418 |\n| goblet_of_fire | krum      | 0.0005539711 |\n| goblet_of_fire | moody     | 0.0005416906 |\n| goblet_of_fire | maxime    | 0.0004105468 |\n| goblet_of_fire | cedric    | 0.0003944349 |\n| goblet_of_fire | bertha    | 0.0003852565 |\n\n",
            "text/latex": "A grouped\\_df: 10 × 3\n\\begin{tabular}{lll}\n book & word & tf\\_idf\\\\\n <fct> & <chr> & <dbl>\\\\\n\\hline\n\t goblet\\_of\\_fire & bagman    & 0.0013576124\\\\\n\t goblet\\_of\\_fire & winky     & 0.0009464125\\\\\n\t goblet\\_of\\_fire & champions & 0.0008516196\\\\\n\t goblet\\_of\\_fire & ludo      & 0.0007198213\\\\\n\t goblet\\_of\\_fire & karkaroff & 0.0006224418\\\\\n\t goblet\\_of\\_fire & krum      & 0.0005539711\\\\\n\t goblet\\_of\\_fire & moody     & 0.0005416906\\\\\n\t goblet\\_of\\_fire & maxime    & 0.0004105468\\\\\n\t goblet\\_of\\_fire & cedric    & 0.0003944349\\\\\n\t goblet\\_of\\_fire & bertha    & 0.0003852565\\\\\n\\end{tabular}\n",
            "text/plain": [
              "   book           word      tf_idf      \n",
              "1  goblet_of_fire bagman    0.0013576124\n",
              "2  goblet_of_fire winky     0.0009464125\n",
              "3  goblet_of_fire champions 0.0008516196\n",
              "4  goblet_of_fire ludo      0.0007198213\n",
              "5  goblet_of_fire karkaroff 0.0006224418\n",
              "6  goblet_of_fire krum      0.0005539711\n",
              "7  goblet_of_fire moody     0.0005416906\n",
              "8  goblet_of_fire maxime    0.0004105468\n",
              "9  goblet_of_fire cedric    0.0003944349\n",
              "10 goblet_of_fire bertha    0.0003852565"
            ]
          },
          "metadata": {}
        },
        {
          "output_type": "display_data",
          "data": {
            "text/html": [
              "<table class=\"dataframe\">\n",
              "<caption>A grouped_df: 10 × 3</caption>\n",
              "<thead>\n",
              "\t<tr><th scope=col>book</th><th scope=col>word</th><th scope=col>tf_idf</th></tr>\n",
              "\t<tr><th scope=col>&lt;fct&gt;</th><th scope=col>&lt;chr&gt;</th><th scope=col>&lt;dbl&gt;</th></tr>\n",
              "</thead>\n",
              "<tbody>\n",
              "\t<tr><td>order_of_the_phoenix</td><td>umbridge  </td><td>0.0016237090</td></tr>\n",
              "\t<tr><td>order_of_the_phoenix</td><td>defence   </td><td>0.0004962004</td></tr>\n",
              "\t<tr><td>order_of_the_phoenix</td><td>luna      </td><td>0.0004550314</td></tr>\n",
              "\t<tr><td>order_of_the_phoenix</td><td>umbridge's</td><td>0.0003533314</td></tr>\n",
              "\t<tr><td>order_of_the_phoenix</td><td>sirius    </td><td>0.0003507932</td></tr>\n",
              "\t<tr><td>order_of_the_phoenix</td><td>tonks     </td><td>0.0003306343</td></tr>\n",
              "\t<tr><td>order_of_the_phoenix</td><td>kreacher  </td><td>0.0003273607</td></tr>\n",
              "\t<tr><td>order_of_the_phoenix</td><td>realised  </td><td>0.0002420078</td></tr>\n",
              "\t<tr><td>order_of_the_phoenix</td><td>forwards  </td><td>0.0002226053</td></tr>\n",
              "\t<tr><td>order_of_the_phoenix</td><td>lupin     </td><td>0.0002040983</td></tr>\n",
              "</tbody>\n",
              "</table>\n"
            ],
            "text/markdown": "\nA grouped_df: 10 × 3\n\n| book &lt;fct&gt; | word &lt;chr&gt; | tf_idf &lt;dbl&gt; |\n|---|---|---|\n| order_of_the_phoenix | umbridge   | 0.0016237090 |\n| order_of_the_phoenix | defence    | 0.0004962004 |\n| order_of_the_phoenix | luna       | 0.0004550314 |\n| order_of_the_phoenix | umbridge's | 0.0003533314 |\n| order_of_the_phoenix | sirius     | 0.0003507932 |\n| order_of_the_phoenix | tonks      | 0.0003306343 |\n| order_of_the_phoenix | kreacher   | 0.0003273607 |\n| order_of_the_phoenix | realised   | 0.0002420078 |\n| order_of_the_phoenix | forwards   | 0.0002226053 |\n| order_of_the_phoenix | lupin      | 0.0002040983 |\n\n",
            "text/latex": "A grouped\\_df: 10 × 3\n\\begin{tabular}{lll}\n book & word & tf\\_idf\\\\\n <fct> & <chr> & <dbl>\\\\\n\\hline\n\t order\\_of\\_the\\_phoenix & umbridge   & 0.0016237090\\\\\n\t order\\_of\\_the\\_phoenix & defence    & 0.0004962004\\\\\n\t order\\_of\\_the\\_phoenix & luna       & 0.0004550314\\\\\n\t order\\_of\\_the\\_phoenix & umbridge's & 0.0003533314\\\\\n\t order\\_of\\_the\\_phoenix & sirius     & 0.0003507932\\\\\n\t order\\_of\\_the\\_phoenix & tonks      & 0.0003306343\\\\\n\t order\\_of\\_the\\_phoenix & kreacher   & 0.0003273607\\\\\n\t order\\_of\\_the\\_phoenix & realised   & 0.0002420078\\\\\n\t order\\_of\\_the\\_phoenix & forwards   & 0.0002226053\\\\\n\t order\\_of\\_the\\_phoenix & lupin      & 0.0002040983\\\\\n\\end{tabular}\n",
            "text/plain": [
              "   book                 word       tf_idf      \n",
              "1  order_of_the_phoenix umbridge   0.0016237090\n",
              "2  order_of_the_phoenix defence    0.0004962004\n",
              "3  order_of_the_phoenix luna       0.0004550314\n",
              "4  order_of_the_phoenix umbridge's 0.0003533314\n",
              "5  order_of_the_phoenix sirius     0.0003507932\n",
              "6  order_of_the_phoenix tonks      0.0003306343\n",
              "7  order_of_the_phoenix kreacher   0.0003273607\n",
              "8  order_of_the_phoenix realised   0.0002420078\n",
              "9  order_of_the_phoenix forwards   0.0002226053\n",
              "10 order_of_the_phoenix lupin      0.0002040983"
            ]
          },
          "metadata": {}
        },
        {
          "output_type": "display_data",
          "data": {
            "text/html": [
              "<table class=\"dataframe\">\n",
              "<caption>A grouped_df: 10 × 3</caption>\n",
              "<thead>\n",
              "\t<tr><th scope=col>book</th><th scope=col>word</th><th scope=col>tf_idf</th></tr>\n",
              "\t<tr><th scope=col>&lt;fct&gt;</th><th scope=col>&lt;chr&gt;</th><th scope=col>&lt;dbl&gt;</th></tr>\n",
              "</thead>\n",
              "<tbody>\n",
              "\t<tr><td>half_blood_prince</td><td>slughorn  </td><td>0.0024896970</td></tr>\n",
              "\t<tr><td>half_blood_prince</td><td>mclaggen  </td><td>0.0007371559</td></tr>\n",
              "\t<tr><td>half_blood_prince</td><td>morfin    </td><td>0.0006464290</td></tr>\n",
              "\t<tr><td>half_blood_prince</td><td>slughorn's</td><td>0.0006010656</td></tr>\n",
              "\t<tr><td>half_blood_prince</td><td>quot      </td><td>0.0004876570</td></tr>\n",
              "\t<tr><td>half_blood_prince</td><td>ogden     </td><td>0.0004453710</td></tr>\n",
              "\t<tr><td>half_blood_prince</td><td>felix     </td><td>0.0003515667</td></tr>\n",
              "\t<tr><td>half_blood_prince</td><td>merope    </td><td>0.0003515667</td></tr>\n",
              "\t<tr><td>half_blood_prince</td><td>scrimgeour</td><td>0.0003506046</td></tr>\n",
              "\t<tr><td>half_blood_prince</td><td>horcrux   </td><td>0.0003358536</td></tr>\n",
              "</tbody>\n",
              "</table>\n"
            ],
            "text/markdown": "\nA grouped_df: 10 × 3\n\n| book &lt;fct&gt; | word &lt;chr&gt; | tf_idf &lt;dbl&gt; |\n|---|---|---|\n| half_blood_prince | slughorn   | 0.0024896970 |\n| half_blood_prince | mclaggen   | 0.0007371559 |\n| half_blood_prince | morfin     | 0.0006464290 |\n| half_blood_prince | slughorn's | 0.0006010656 |\n| half_blood_prince | quot       | 0.0004876570 |\n| half_blood_prince | ogden      | 0.0004453710 |\n| half_blood_prince | felix      | 0.0003515667 |\n| half_blood_prince | merope     | 0.0003515667 |\n| half_blood_prince | scrimgeour | 0.0003506046 |\n| half_blood_prince | horcrux    | 0.0003358536 |\n\n",
            "text/latex": "A grouped\\_df: 10 × 3\n\\begin{tabular}{lll}\n book & word & tf\\_idf\\\\\n <fct> & <chr> & <dbl>\\\\\n\\hline\n\t half\\_blood\\_prince & slughorn   & 0.0024896970\\\\\n\t half\\_blood\\_prince & mclaggen   & 0.0007371559\\\\\n\t half\\_blood\\_prince & morfin     & 0.0006464290\\\\\n\t half\\_blood\\_prince & slughorn's & 0.0006010656\\\\\n\t half\\_blood\\_prince & quot       & 0.0004876570\\\\\n\t half\\_blood\\_prince & ogden      & 0.0004453710\\\\\n\t half\\_blood\\_prince & felix      & 0.0003515667\\\\\n\t half\\_blood\\_prince & merope     & 0.0003515667\\\\\n\t half\\_blood\\_prince & scrimgeour & 0.0003506046\\\\\n\t half\\_blood\\_prince & horcrux    & 0.0003358536\\\\\n\\end{tabular}\n",
            "text/plain": [
              "   book              word       tf_idf      \n",
              "1  half_blood_prince slughorn   0.0024896970\n",
              "2  half_blood_prince mclaggen   0.0007371559\n",
              "3  half_blood_prince morfin     0.0006464290\n",
              "4  half_blood_prince slughorn's 0.0006010656\n",
              "5  half_blood_prince quot       0.0004876570\n",
              "6  half_blood_prince ogden      0.0004453710\n",
              "7  half_blood_prince felix      0.0003515667\n",
              "8  half_blood_prince merope     0.0003515667\n",
              "9  half_blood_prince scrimgeour 0.0003506046\n",
              "10 half_blood_prince horcrux    0.0003358536"
            ]
          },
          "metadata": {}
        },
        {
          "output_type": "display_data",
          "data": {
            "text/html": [
              "<table class=\"dataframe\">\n",
              "<caption>A grouped_df: 10 × 3</caption>\n",
              "<thead>\n",
              "\t<tr><th scope=col>book</th><th scope=col>word</th><th scope=col>tf_idf</th></tr>\n",
              "\t<tr><th scope=col>&lt;fct&gt;</th><th scope=col>&lt;chr&gt;</th><th scope=col>&lt;dbl&gt;</th></tr>\n",
              "</thead>\n",
              "<tbody>\n",
              "\t<tr><td>deathly_hallows</td><td>xenophilius</td><td>0.0008281464</td></tr>\n",
              "\t<tr><td>deathly_hallows</td><td>griphook   </td><td>0.0007526890</td></tr>\n",
              "\t<tr><td>deathly_hallows</td><td>hallows    </td><td>0.0006527742</td></tr>\n",
              "\t<tr><td>deathly_hallows</td><td>horcrux    </td><td>0.0005833339</td></tr>\n",
              "\t<tr><td>deathly_hallows</td><td>luna       </td><td>0.0005218031</td></tr>\n",
              "\t<tr><td>deathly_hallows</td><td>kreacher   </td><td>0.0005175608</td></tr>\n",
              "\t<tr><td>deathly_hallows</td><td>greyback   </td><td>0.0004202513</td></tr>\n",
              "\t<tr><td>deathly_hallows</td><td>ariana     </td><td>0.0004092017</td></tr>\n",
              "\t<tr><td>deathly_hallows</td><td>diadem     </td><td>0.0004092017</td></tr>\n",
              "\t<tr><td>deathly_hallows</td><td>cattermole </td><td>0.0003994588</td></tr>\n",
              "</tbody>\n",
              "</table>\n"
            ],
            "text/markdown": "\nA grouped_df: 10 × 3\n\n| book &lt;fct&gt; | word &lt;chr&gt; | tf_idf &lt;dbl&gt; |\n|---|---|---|\n| deathly_hallows | xenophilius | 0.0008281464 |\n| deathly_hallows | griphook    | 0.0007526890 |\n| deathly_hallows | hallows     | 0.0006527742 |\n| deathly_hallows | horcrux     | 0.0005833339 |\n| deathly_hallows | luna        | 0.0005218031 |\n| deathly_hallows | kreacher    | 0.0005175608 |\n| deathly_hallows | greyback    | 0.0004202513 |\n| deathly_hallows | ariana      | 0.0004092017 |\n| deathly_hallows | diadem      | 0.0004092017 |\n| deathly_hallows | cattermole  | 0.0003994588 |\n\n",
            "text/latex": "A grouped\\_df: 10 × 3\n\\begin{tabular}{lll}\n book & word & tf\\_idf\\\\\n <fct> & <chr> & <dbl>\\\\\n\\hline\n\t deathly\\_hallows & xenophilius & 0.0008281464\\\\\n\t deathly\\_hallows & griphook    & 0.0007526890\\\\\n\t deathly\\_hallows & hallows     & 0.0006527742\\\\\n\t deathly\\_hallows & horcrux     & 0.0005833339\\\\\n\t deathly\\_hallows & luna        & 0.0005218031\\\\\n\t deathly\\_hallows & kreacher    & 0.0005175608\\\\\n\t deathly\\_hallows & greyback    & 0.0004202513\\\\\n\t deathly\\_hallows & ariana      & 0.0004092017\\\\\n\t deathly\\_hallows & diadem      & 0.0004092017\\\\\n\t deathly\\_hallows & cattermole  & 0.0003994588\\\\\n\\end{tabular}\n",
            "text/plain": [
              "   book            word        tf_idf      \n",
              "1  deathly_hallows xenophilius 0.0008281464\n",
              "2  deathly_hallows griphook    0.0007526890\n",
              "3  deathly_hallows hallows     0.0006527742\n",
              "4  deathly_hallows horcrux     0.0005833339\n",
              "5  deathly_hallows luna        0.0005218031\n",
              "6  deathly_hallows kreacher    0.0005175608\n",
              "7  deathly_hallows greyback    0.0004202513\n",
              "8  deathly_hallows ariana      0.0004092017\n",
              "9  deathly_hallows diadem      0.0004092017\n",
              "10 deathly_hallows cattermole  0.0003994588"
            ]
          },
          "metadata": {}
        }
      ],
      "source": [
        "### YOUR SOLUTION HERE\n",
        "hpwords <- chapter_words %>%\n",
        "  left_join(chapter_data, join_by(sentence_id, book, chapter))\n",
        "\n",
        "total_usage_counts <- hpwords %>%\n",
        "  select(book, word) %>%\n",
        "  count(word) %>%\n",
        "  arrange(desc(n))\n",
        "\n",
        "usage_per_book <- hpwords %>%\n",
        "  group_by(book) %>%\n",
        "  select(book, word) %>%\n",
        "  count(word) %>%\n",
        "  arrange(desc(n))\n",
        "\n",
        "dataframe <- usage_per_book %>%\n",
        "  left_join(total_usage_counts, join_by(word))\n",
        "\n",
        "hp_tf_idf <- dataframe %>%\n",
        "  bind_tf_idf(word, book, n.x)\n",
        "\n",
        "hp_tf_idf$book <- factor(hp_tf_idf$book, levels = c(\"philosophers_stone\", \"chamber_of_secrets\", \"prisoner_of_azkaban\", \"goblet_of_fire\", \"order_of_the_phoenix\", \"half_blood_prince\", \"deathly_hallows\"))\n",
        "\n",
        "hp_tf_idf <- hp_tf_idf %>%\n",
        "  anti_join(stop_words, join_by(word))\n",
        "\n",
        "PS <- hp_tf_idf %>%\n",
        "  arrange(desc(tf_idf)) %>%\n",
        "  group_by(book) %>%\n",
        "  slice(1:10) %>%\n",
        "  select(book, word, tf_idf) %>%\n",
        "  filter(book == \"philosophers_stone\")\n",
        "\n",
        "COS <- hp_tf_idf %>%\n",
        "  arrange(desc(tf_idf)) %>%\n",
        "  group_by(book) %>%\n",
        "  slice(1:10) %>%\n",
        "  select(book, word, tf_idf) %>%\n",
        "  filter(book == \"chamber_of_secrets\")\n",
        "\n",
        "POA <- hp_tf_idf %>%\n",
        "  arrange(desc(tf_idf)) %>%\n",
        "  group_by(book) %>%\n",
        "  slice(1:10) %>%\n",
        "  select(book, word, tf_idf) %>%\n",
        "  filter(book == \"prisoner_of_azkaban\")\n",
        "\n",
        "GOF <- hp_tf_idf %>%\n",
        "  arrange(desc(tf_idf)) %>%\n",
        "  group_by(book) %>%\n",
        "  slice(1:10) %>%\n",
        "  select(book, word, tf_idf) %>%\n",
        "  filter(book == \"goblet_of_fire\")\n",
        "\n",
        "OOTF <- hp_tf_idf %>%\n",
        "  arrange(desc(tf_idf)) %>%\n",
        "  group_by(book) %>%\n",
        "  slice(1:10) %>%\n",
        "  select(book, word, tf_idf) %>%\n",
        "  filter(book == \"order_of_the_phoenix\")\n",
        "\n",
        "HBP <- hp_tf_idf %>%\n",
        "  arrange(desc(tf_idf)) %>%\n",
        "  group_by(book) %>%\n",
        "  slice(1:10) %>%\n",
        "  select(book, word, tf_idf) %>%\n",
        "  filter(book == \"half_blood_prince\")\n",
        "\n",
        "DH <- hp_tf_idf %>%\n",
        "  arrange(desc(tf_idf)) %>%\n",
        "  group_by(book) %>%\n",
        "  slice(1:10) %>%\n",
        "  select(book, word, tf_idf) %>%\n",
        "  filter(book == \"deathly_hallows\")\n",
        "\n",
        "PS\n",
        "COS\n",
        "POA\n",
        "GOF\n",
        "OOTF\n",
        "HBP\n",
        "DH"
      ]
    },
    {
      "cell_type": "markdown",
      "source": [
        "**It makes sense that our top TF-IDF words are still minor characters with unique names because Stop Words have very low TF-IDFs due to their common occurrences in written language. As a result, they would not have been in the Top 10 highest TF-IDF words regardless of their inclusion in our analysis.**"
      ],
      "metadata": {
        "id": "dCwo47MW9N3L"
      }
    }
  ],
  "metadata": {
    "celltoolbar": "Create Assignment",
    "colab": {
      "provenance": [],
      "include_colab_link": true
    },
    "kernelspec": {
      "display_name": "R",
      "language": "R",
      "name": "ir"
    },
    "language_info": {
      "codemirror_mode": "r",
      "file_extension": ".r",
      "mimetype": "text/x-r-source",
      "name": "R",
      "pygments_lexer": "r",
      "version": "4.2.1"
    }
  },
  "nbformat": 4,
  "nbformat_minor": 0
}